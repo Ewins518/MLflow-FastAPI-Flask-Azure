{
 "cells": [
  {
   "cell_type": "code",
   "execution_count": 16,
   "id": "27ca9426",
   "metadata": {},
   "outputs": [],
   "source": [
    "import mlflow\n",
    "from azureml.core import Workspace\n",
    "import pandas as pd\n",
    "import numpy as np\n",
    "from sklearn.ensemble import RandomForestClassifier\n",
    "from sklearn.linear_model import LogisticRegression\n",
    "from sklearn.model_selection import GridSearchCV, train_test_split\n",
    "from sklearn.pipeline import Pipeline\n",
    "from sklearn.preprocessing import FunctionTransformer\n",
    "from sklearn.impute import SimpleImputer\n",
    "from sklearn.preprocessing import LabelEncoder\n"
   ]
  },
  {
   "cell_type": "code",
   "execution_count": 3,
   "id": "8e81d276",
   "metadata": {},
   "outputs": [
    {
     "name": "stdout",
     "output_type": "stream",
     "text": [
      "2.8.1\n"
     ]
    }
   ],
   "source": [
    "print(mlflow.__version__)\n"
   ]
  },
  {
   "cell_type": "code",
   "execution_count": 4,
   "id": "92c9ae27",
   "metadata": {},
   "outputs": [],
   "source": [
    "import warnings\n",
    "warnings.filterwarnings('ignore')"
   ]
  },
  {
   "cell_type": "code",
   "execution_count": 5,
   "id": "aeca44a8",
   "metadata": {},
   "outputs": [],
   "source": [
    "ws = Workspace.from_config() "
   ]
  },
  {
   "cell_type": "markdown",
   "id": "ea9e2c31",
   "metadata": {},
   "source": [
    "#### Mettre en place un URI de Tracking des experimentation MLflow sur Azure\n",
    "\n",
    "Nous indiquons à mlflow que l'URI de tracking est celui de mlflow dans azure ML. Toutefois, le lien de tracking de Mlflow dans azure à la forme suivante:\n",
    "\n",
    "azureml://<region>.api.azureml.ms/mlflow/v1.0/subscriptions/<subscription-id>/resourceGroups/<resource-group>/providers/Microsoft.MachineLearningServices/workspaces/<aml-workspace>?"
   ]
  },
  {
   "cell_type": "code",
   "execution_count": 6,
   "id": "e677210e",
   "metadata": {},
   "outputs": [],
   "source": [
    "mlflow.set_tracking_uri(ws.get_mlflow_tracking_uri())"
   ]
  },
  {
   "cell_type": "code",
   "execution_count": 7,
   "id": "7b9a9e7b",
   "metadata": {
    "scrolled": true
   },
   "outputs": [
    {
     "data": {
      "text/plain": [
       "'azureml://francecentral.api.azureml.ms/mlflow/v2.0/subscriptions/2c2d1cc7-f0fc-4174-b403-4bdd35238850/resourceGroups/Learn_MLOps/providers/Microsoft.MachineLearningServices/workspaces/Ewins_ML?'"
      ]
     },
     "execution_count": 7,
     "metadata": {},
     "output_type": "execute_result"
    }
   ],
   "source": [
    "mlflow.get_tracking_uri()"
   ]
  },
  {
   "cell_type": "code",
   "execution_count": 8,
   "id": "746e8ca9",
   "metadata": {},
   "outputs": [
    {
     "name": "stderr",
     "output_type": "stream",
     "text": [
      "2023/12/02 17:43:48 INFO mlflow.tracking.fluent: Experiment with name 'student-mental' does not exist. Creating a new experiment.\n"
     ]
    },
    {
     "data": {
      "text/plain": [
       "<Experiment: artifact_location='', creation_time=1701535429720, experiment_id='56602126-7e26-4fb9-b6eb-b70021ff9ef5', last_update_time=None, lifecycle_stage='active', name='student-mental', tags={}>"
      ]
     },
     "execution_count": 8,
     "metadata": {},
     "output_type": "execute_result"
    }
   ],
   "source": [
    "experiment_name = 'student-mental'\n",
    "mlflow.set_experiment(experiment_name)"
   ]
  },
  {
   "cell_type": "markdown",
   "id": "7dd1c714",
   "metadata": {},
   "source": [
    "#### chargement du dataset et traitements necéssaires "
   ]
  },
  {
   "cell_type": "code",
   "execution_count": 9,
   "id": "ecf63818",
   "metadata": {},
   "outputs": [],
   "source": [
    "df = pd.read_csv(\"../data/Student Mental health.csv\")"
   ]
  },
  {
   "cell_type": "code",
   "execution_count": 10,
   "id": "30d49552",
   "metadata": {},
   "outputs": [
    {
     "data": {
      "text/plain": [
       "(101, 11)"
      ]
     },
     "execution_count": 10,
     "metadata": {},
     "output_type": "execute_result"
    }
   ],
   "source": [
    "df.shape"
   ]
  },
  {
   "cell_type": "code",
   "execution_count": 12,
   "id": "99cc60d6",
   "metadata": {},
   "outputs": [
    {
     "data": {
      "text/plain": [
       "(100, 11)"
      ]
     },
     "execution_count": 12,
     "metadata": {},
     "output_type": "execute_result"
    }
   ],
   "source": [
    "data = df.dropna(how='any',axis=0) \n",
    "data.shape"
   ]
  },
  {
   "cell_type": "code",
   "execution_count": 13,
   "id": "c06ad9aa",
   "metadata": {},
   "outputs": [
    {
     "data": {
      "text/html": [
       "<div>\n",
       "<style scoped>\n",
       "    .dataframe tbody tr th:only-of-type {\n",
       "        vertical-align: middle;\n",
       "    }\n",
       "\n",
       "    .dataframe tbody tr th {\n",
       "        vertical-align: top;\n",
       "    }\n",
       "\n",
       "    .dataframe thead th {\n",
       "        text-align: right;\n",
       "    }\n",
       "</style>\n",
       "<table border=\"1\" class=\"dataframe\">\n",
       "  <thead>\n",
       "    <tr style=\"text-align: right;\">\n",
       "      <th></th>\n",
       "      <th>Timestamp</th>\n",
       "      <th>Choose_your_gender</th>\n",
       "      <th>Age</th>\n",
       "      <th>What_is_your_course</th>\n",
       "      <th>Your_current_year_of_Study</th>\n",
       "      <th>What_is_your_CGPA</th>\n",
       "      <th>Marital_status</th>\n",
       "      <th>Depression</th>\n",
       "      <th>Do_you_have_Anxiety</th>\n",
       "      <th>Do_you_have_Panic_attack</th>\n",
       "      <th>Did_you_seek_any_specialist_for_a_treatment</th>\n",
       "    </tr>\n",
       "  </thead>\n",
       "  <tbody>\n",
       "    <tr>\n",
       "      <th>0</th>\n",
       "      <td>8/7/2020 12:02</td>\n",
       "      <td>Female</td>\n",
       "      <td>18.0</td>\n",
       "      <td>Engineering</td>\n",
       "      <td>year 1</td>\n",
       "      <td>3.00 - 3.49</td>\n",
       "      <td>No</td>\n",
       "      <td>Yes</td>\n",
       "      <td>No</td>\n",
       "      <td>Yes</td>\n",
       "      <td>No</td>\n",
       "    </tr>\n",
       "    <tr>\n",
       "      <th>1</th>\n",
       "      <td>8/7/2020 12:04</td>\n",
       "      <td>Male</td>\n",
       "      <td>21.0</td>\n",
       "      <td>Islamic education</td>\n",
       "      <td>year 2</td>\n",
       "      <td>3.00 - 3.49</td>\n",
       "      <td>No</td>\n",
       "      <td>No</td>\n",
       "      <td>Yes</td>\n",
       "      <td>No</td>\n",
       "      <td>No</td>\n",
       "    </tr>\n",
       "    <tr>\n",
       "      <th>2</th>\n",
       "      <td>8/7/2020 12:05</td>\n",
       "      <td>Male</td>\n",
       "      <td>19.0</td>\n",
       "      <td>BIT</td>\n",
       "      <td>Year 1</td>\n",
       "      <td>3.00 - 3.49</td>\n",
       "      <td>No</td>\n",
       "      <td>Yes</td>\n",
       "      <td>Yes</td>\n",
       "      <td>Yes</td>\n",
       "      <td>No</td>\n",
       "    </tr>\n",
       "    <tr>\n",
       "      <th>3</th>\n",
       "      <td>8/7/2020 12:06</td>\n",
       "      <td>Female</td>\n",
       "      <td>22.0</td>\n",
       "      <td>Laws</td>\n",
       "      <td>year 3</td>\n",
       "      <td>3.00 - 3.49</td>\n",
       "      <td>Yes</td>\n",
       "      <td>Yes</td>\n",
       "      <td>No</td>\n",
       "      <td>No</td>\n",
       "      <td>No</td>\n",
       "    </tr>\n",
       "    <tr>\n",
       "      <th>4</th>\n",
       "      <td>8/7/2020 12:13</td>\n",
       "      <td>Male</td>\n",
       "      <td>23.0</td>\n",
       "      <td>Mathemathics</td>\n",
       "      <td>year 4</td>\n",
       "      <td>3.00 - 3.49</td>\n",
       "      <td>No</td>\n",
       "      <td>No</td>\n",
       "      <td>No</td>\n",
       "      <td>No</td>\n",
       "      <td>No</td>\n",
       "    </tr>\n",
       "  </tbody>\n",
       "</table>\n",
       "</div>"
      ],
      "text/plain": [
       "        Timestamp Choose_your_gender   Age What_is_your_course  \\\n",
       "0  8/7/2020 12:02             Female  18.0         Engineering   \n",
       "1  8/7/2020 12:04               Male  21.0   Islamic education   \n",
       "2  8/7/2020 12:05               Male  19.0                 BIT   \n",
       "3  8/7/2020 12:06             Female  22.0                Laws   \n",
       "4  8/7/2020 12:13               Male  23.0        Mathemathics   \n",
       "\n",
       "  Your_current_year_of_Study What_is_your_CGPA Marital_status Depression  \\\n",
       "0                     year 1       3.00 - 3.49             No        Yes   \n",
       "1                     year 2       3.00 - 3.49             No         No   \n",
       "2                     Year 1       3.00 - 3.49             No        Yes   \n",
       "3                     year 3       3.00 - 3.49            Yes        Yes   \n",
       "4                     year 4       3.00 - 3.49             No         No   \n",
       "\n",
       "  Do_you_have_Anxiety Do_you_have_Panic_attack  \\\n",
       "0                  No                      Yes   \n",
       "1                 Yes                       No   \n",
       "2                 Yes                      Yes   \n",
       "3                  No                       No   \n",
       "4                  No                       No   \n",
       "\n",
       "  Did_you_seek_any_specialist_for_a_treatment  \n",
       "0                                          No  \n",
       "1                                          No  \n",
       "2                                          No  \n",
       "3                                          No  \n",
       "4                                          No  "
      ]
     },
     "execution_count": 13,
     "metadata": {},
     "output_type": "execute_result"
    }
   ],
   "source": [
    "data.rename(columns = {'Choose your gender':'Choose_your_gender',\n",
    "                     'What is your course?':'What_is_your_course', \n",
    "                     'Your current year of Study':'Your_current_year_of_Study',\n",
    "                     'What is your CGPA?':'What_is_your_CGPA', \n",
    "                     'Marital status':'Marital_status', \n",
    "                     'Do you have Depression?':'Depression', \n",
    "                     'Do you have Anxiety?':'Do_you_have_Anxiety',\n",
    "                     'Do you have Panic attack?':'Do_you_have_Panic_attack', \n",
    "                     'Did you seek any specialist for a treatment?':'Did_you_seek_any_specialist_for_a_treatment'}, inplace = True)\n",
    "data.head()"
   ]
  },
  {
   "cell_type": "code",
   "execution_count": 14,
   "id": "3339bc6d",
   "metadata": {},
   "outputs": [],
   "source": [
    "data[\"Depression\"].replace({\"Yes\": 1, \"No\": 0}, inplace=True)\n",
    "data[\"Marital_status\"].replace({\"Yes\": 1, \"No\": 0}, inplace=True)\n",
    "data[\"Do_you_have_Anxiety\"].replace({\"Yes\": 1, \"No\": 0}, inplace=True)\n",
    "data[\"Do_you_have_Panic_attack\"].replace({\"Yes\": 1, \"No\": 0}, inplace=True)\n",
    "data[\"Did_you_seek_any_specialist_for_a_treatment\"].replace({\"Yes\": 1, \"No\": 0}, inplace=True)\n",
    "data[\"Choose_your_gender\"].replace({\"Male\": 1, \"Female\": 0}, inplace=True)\n",
    "data[\"What_is_your_course\"].replace({\n",
    "                                     \"Islamic education\": \"Islamic Education\",\n",
    "                                     \"Law\": \"Laws\",\n",
    "                                     \"Pendidikan islam\": \"Pendidikan Islam\",\n",
    "                                     \"Pendidikan Islam \": \"Pendidikan Islam\",\n",
    "                                     \"psychology\": \"Psychology\",\n",
    "                                     \"koe\": \"KOE\",\n",
    "                                     \"Koe\": \"KOE\",\n",
    "                                     \"Kirkhs\": \"KIRKHS\",\n",
    "                                     \"Benl\": \"BENL\",\n",
    "                                     \"Nursing \": \"Diploma Nursing\",\n",
    "                                     \"engin\": \"Engineering\",\n",
    "                                     \"Engine\": \"Engineering\"}, inplace=True)\n",
    "\n",
    "data[\"What_is_your_CGPA\"].replace({\"3.50 - 4.00 \": \"3.50 - 4.00\"}, inplace=True)\n",
    "\n",
    "data[\"Your_current_year_of_Study\"].replace({\n",
    "                                     \"Year 1\": 1,\n",
    "                                     \"year 1\": 1,\n",
    "                                     \"year 2\": 2,\n",
    "                                     \"Year 2\": 2,\n",
    "                                     \"year 3\": 3,\n",
    "                                     \"Year 3\": 3,\n",
    "                                     \"year 4\": 4,\n",
    "                                     \"Year 4\": 4,}, inplace=True)\n"
   ]
  },
  {
   "cell_type": "code",
   "execution_count": 17,
   "id": "7c820056",
   "metadata": {},
   "outputs": [],
   "source": [
    "le = LabelEncoder()\n",
    "data['course_encoded'] = le.fit_transform(data['What_is_your_course'])"
   ]
  },
  {
   "cell_type": "code",
   "execution_count": 18,
   "id": "54f592a1",
   "metadata": {},
   "outputs": [],
   "source": [
    "le2 = LabelEncoder()\n",
    "data['CGPA_encoded'] = le2.fit_transform(data['What_is_your_CGPA'])"
   ]
  },
  {
   "cell_type": "code",
   "execution_count": 19,
   "id": "3477bb36",
   "metadata": {},
   "outputs": [],
   "source": [
    "data.drop(columns=[\"Timestamp\",\"What_is_your_course\",\"What_is_your_CGPA\"],inplace=True)"
   ]
  },
  {
   "cell_type": "code",
   "execution_count": 20,
   "id": "23e7357b",
   "metadata": {},
   "outputs": [],
   "source": [
    "X = data.drop(columns=[\"Depression\"])\n",
    "y = data.Depression"
   ]
  },
  {
   "cell_type": "code",
   "execution_count": null,
   "id": "a055d7d5",
   "metadata": {},
   "outputs": [],
   "source": []
  },
  {
   "cell_type": "code",
   "execution_count": 21,
   "id": "6453be9f",
   "metadata": {},
   "outputs": [],
   "source": [
    "from sklearn.preprocessing import StandardScaler\n",
    "scaler=StandardScaler()\n",
    "df_scaled=scaler.fit_transform(X)"
   ]
  },
  {
   "cell_type": "code",
   "execution_count": 23,
   "id": "06bde699",
   "metadata": {},
   "outputs": [],
   "source": [
    "from sklearn.model_selection import train_test_split\n",
    "x_train,x_test,y_train,y_test=train_test_split(df_scaled,y,test_size=0.2,random_state=0)"
   ]
  },
  {
   "cell_type": "code",
   "execution_count": 24,
   "id": "0aee00e7",
   "metadata": {},
   "outputs": [
    {
     "name": "stdout",
     "output_type": "stream",
     "text": [
      "X_train: (80, 9)\n",
      "X_test: (20, 9)\n",
      "Y_train: (80,)\n",
      "Y_test: (20,)\n"
     ]
    }
   ],
   "source": [
    "print(\"X_train:\",x_train.shape)\n",
    "print(\"X_test:\",x_test.shape)\n",
    "print(\"Y_train:\",y_train.shape)\n",
    "print(\"Y_test:\",y_test.shape)"
   ]
  },
  {
   "cell_type": "code",
   "execution_count": 28,
   "id": "057cd2c7",
   "metadata": {},
   "outputs": [],
   "source": [
    "rf_clf = RandomForestClassifier() "
   ]
  },
  {
   "cell_type": "code",
   "execution_count": 25,
   "id": "19c6b933",
   "metadata": {},
   "outputs": [],
   "source": [
    "mlflow.sklearn.autolog(max_tuning_runs=None)"
   ]
  },
  {
   "cell_type": "markdown",
   "id": "f0ae734a",
   "metadata": {},
   "source": [
    "#### Hyperparameter tuning \n",
    "\n",
    "Nous alons utiliser l'algorithme GridSearchCV pour trouver les meilleurs paramétres"
   ]
  },
  {
   "cell_type": "code",
   "execution_count": 26,
   "id": "5477c58c",
   "metadata": {},
   "outputs": [],
   "source": [
    "param_grid = {'n_estimators': [10,20,30], 'max_depth':[2,7,10]}"
   ]
  },
  {
   "cell_type": "code",
   "execution_count": 29,
   "id": "df7521bb",
   "metadata": {},
   "outputs": [],
   "source": [
    "gridcv=GridSearchCV(rf_clf,param_grid=param_grid,scoring = ['roc_auc', 'precision', 'recall', 'f1', 'accuracy'],refit = 'roc_auc',cv=10)"
   ]
  },
  {
   "cell_type": "code",
   "execution_count": 30,
   "id": "4c23f9b2",
   "metadata": {},
   "outputs": [
    {
     "name": "stderr",
     "output_type": "stream",
     "text": [
      "2023/12/02 17:54:20 INFO mlflow.utils.autologging_utils: Created MLflow autologging run with ID 'aadcdddd-5811-41b5-88a8-3b50625ce66b', which will track hyperparameters, performance metrics, model artifacts, and lineage information for the current sklearn workflow\n",
      "2023/12/02 17:54:20 WARNING mlflow.sklearn: Failed to log training dataset information to MLflow Tracking. Reason: 'Series' object has no attribute 'flatten'\n"
     ]
    },
    {
     "data": {
      "text/html": [
       "<style>#sk-container-id-2 {color: black;}#sk-container-id-2 pre{padding: 0;}#sk-container-id-2 div.sk-toggleable {background-color: white;}#sk-container-id-2 label.sk-toggleable__label {cursor: pointer;display: block;width: 100%;margin-bottom: 0;padding: 0.3em;box-sizing: border-box;text-align: center;}#sk-container-id-2 label.sk-toggleable__label-arrow:before {content: \"▸\";float: left;margin-right: 0.25em;color: #696969;}#sk-container-id-2 label.sk-toggleable__label-arrow:hover:before {color: black;}#sk-container-id-2 div.sk-estimator:hover label.sk-toggleable__label-arrow:before {color: black;}#sk-container-id-2 div.sk-toggleable__content {max-height: 0;max-width: 0;overflow: hidden;text-align: left;background-color: #f0f8ff;}#sk-container-id-2 div.sk-toggleable__content pre {margin: 0.2em;color: black;border-radius: 0.25em;background-color: #f0f8ff;}#sk-container-id-2 input.sk-toggleable__control:checked~div.sk-toggleable__content {max-height: 200px;max-width: 100%;overflow: auto;}#sk-container-id-2 input.sk-toggleable__control:checked~label.sk-toggleable__label-arrow:before {content: \"▾\";}#sk-container-id-2 div.sk-estimator input.sk-toggleable__control:checked~label.sk-toggleable__label {background-color: #d4ebff;}#sk-container-id-2 div.sk-label input.sk-toggleable__control:checked~label.sk-toggleable__label {background-color: #d4ebff;}#sk-container-id-2 input.sk-hidden--visually {border: 0;clip: rect(1px 1px 1px 1px);clip: rect(1px, 1px, 1px, 1px);height: 1px;margin: -1px;overflow: hidden;padding: 0;position: absolute;width: 1px;}#sk-container-id-2 div.sk-estimator {font-family: monospace;background-color: #f0f8ff;border: 1px dotted black;border-radius: 0.25em;box-sizing: border-box;margin-bottom: 0.5em;}#sk-container-id-2 div.sk-estimator:hover {background-color: #d4ebff;}#sk-container-id-2 div.sk-parallel-item::after {content: \"\";width: 100%;border-bottom: 1px solid gray;flex-grow: 1;}#sk-container-id-2 div.sk-label:hover label.sk-toggleable__label {background-color: #d4ebff;}#sk-container-id-2 div.sk-serial::before {content: \"\";position: absolute;border-left: 1px solid gray;box-sizing: border-box;top: 0;bottom: 0;left: 50%;z-index: 0;}#sk-container-id-2 div.sk-serial {display: flex;flex-direction: column;align-items: center;background-color: white;padding-right: 0.2em;padding-left: 0.2em;position: relative;}#sk-container-id-2 div.sk-item {position: relative;z-index: 1;}#sk-container-id-2 div.sk-parallel {display: flex;align-items: stretch;justify-content: center;background-color: white;position: relative;}#sk-container-id-2 div.sk-item::before, #sk-container-id-2 div.sk-parallel-item::before {content: \"\";position: absolute;border-left: 1px solid gray;box-sizing: border-box;top: 0;bottom: 0;left: 50%;z-index: -1;}#sk-container-id-2 div.sk-parallel-item {display: flex;flex-direction: column;z-index: 1;position: relative;background-color: white;}#sk-container-id-2 div.sk-parallel-item:first-child::after {align-self: flex-end;width: 50%;}#sk-container-id-2 div.sk-parallel-item:last-child::after {align-self: flex-start;width: 50%;}#sk-container-id-2 div.sk-parallel-item:only-child::after {width: 0;}#sk-container-id-2 div.sk-dashed-wrapped {border: 1px dashed gray;margin: 0 0.4em 0.5em 0.4em;box-sizing: border-box;padding-bottom: 0.4em;background-color: white;}#sk-container-id-2 div.sk-label label {font-family: monospace;font-weight: bold;display: inline-block;line-height: 1.2em;}#sk-container-id-2 div.sk-label-container {text-align: center;}#sk-container-id-2 div.sk-container {/* jupyter's `normalize.less` sets `[hidden] { display: none; }` but bootstrap.min.css set `[hidden] { display: none !important; }` so we also need the `!important` here to be able to override the default hidden behavior on the sphinx rendered scikit-learn.org. See: https://github.com/scikit-learn/scikit-learn/issues/21755 */display: inline-block !important;position: relative;}#sk-container-id-2 div.sk-text-repr-fallback {display: none;}</style><div id=\"sk-container-id-2\" class=\"sk-top-container\"><div class=\"sk-text-repr-fallback\"><pre>GridSearchCV(cv=10, estimator=RandomForestClassifier(),\n",
       "             param_grid={&#x27;max_depth&#x27;: [2, 7, 10], &#x27;n_estimators&#x27;: [10, 20, 30]},\n",
       "             refit=&#x27;roc_auc&#x27;,\n",
       "             scoring=[&#x27;roc_auc&#x27;, &#x27;precision&#x27;, &#x27;recall&#x27;, &#x27;f1&#x27;, &#x27;accuracy&#x27;])</pre><b>In a Jupyter environment, please rerun this cell to show the HTML representation or trust the notebook. <br />On GitHub, the HTML representation is unable to render, please try loading this page with nbviewer.org.</b></div><div class=\"sk-container\" hidden><div class=\"sk-item sk-dashed-wrapped\"><div class=\"sk-label-container\"><div class=\"sk-label sk-toggleable\"><input class=\"sk-toggleable__control sk-hidden--visually\" id=\"sk-estimator-id-4\" type=\"checkbox\" ><label for=\"sk-estimator-id-4\" class=\"sk-toggleable__label sk-toggleable__label-arrow\">GridSearchCV</label><div class=\"sk-toggleable__content\"><pre>GridSearchCV(cv=10, estimator=RandomForestClassifier(),\n",
       "             param_grid={&#x27;max_depth&#x27;: [2, 7, 10], &#x27;n_estimators&#x27;: [10, 20, 30]},\n",
       "             refit=&#x27;roc_auc&#x27;,\n",
       "             scoring=[&#x27;roc_auc&#x27;, &#x27;precision&#x27;, &#x27;recall&#x27;, &#x27;f1&#x27;, &#x27;accuracy&#x27;])</pre></div></div></div><div class=\"sk-parallel\"><div class=\"sk-parallel-item\"><div class=\"sk-item\"><div class=\"sk-label-container\"><div class=\"sk-label sk-toggleable\"><input class=\"sk-toggleable__control sk-hidden--visually\" id=\"sk-estimator-id-5\" type=\"checkbox\" ><label for=\"sk-estimator-id-5\" class=\"sk-toggleable__label sk-toggleable__label-arrow\">estimator: RandomForestClassifier</label><div class=\"sk-toggleable__content\"><pre>RandomForestClassifier()</pre></div></div></div><div class=\"sk-serial\"><div class=\"sk-item\"><div class=\"sk-estimator sk-toggleable\"><input class=\"sk-toggleable__control sk-hidden--visually\" id=\"sk-estimator-id-6\" type=\"checkbox\" ><label for=\"sk-estimator-id-6\" class=\"sk-toggleable__label sk-toggleable__label-arrow\">RandomForestClassifier</label><div class=\"sk-toggleable__content\"><pre>RandomForestClassifier()</pre></div></div></div></div></div></div></div></div></div></div>"
      ],
      "text/plain": [
       "GridSearchCV(cv=10, estimator=RandomForestClassifier(),\n",
       "             param_grid={'max_depth': [2, 7, 10], 'n_estimators': [10, 20, 30]},\n",
       "             refit='roc_auc',\n",
       "             scoring=['roc_auc', 'precision', 'recall', 'f1', 'accuracy'])"
      ]
     },
     "execution_count": 30,
     "metadata": {},
     "output_type": "execute_result"
    }
   ],
   "source": [
    "gridcv.fit(x_train, y_train)"
   ]
  },
  {
   "cell_type": "markdown",
   "id": "42c32d69",
   "metadata": {},
   "source": [
    "## 2.  L'enregistrement du modèle \n",
    "L'enregistrement du modèle dans le registre de modèles d'Azure Machine Learning a pour but de permettre aux utilisateurs de suivre les modifications apportées au modèle via la gestion des versions du modèle."
   ]
  },
  {
   "cell_type": "code",
   "execution_count": 31,
   "id": "871df1a5",
   "metadata": {},
   "outputs": [],
   "source": [
    "from azureml.core import Experiment, Workspace\n",
    "#experiment_name = 'diabetes-sklearn'\n",
    "experiment = Experiment(ws, experiment_name)"
   ]
  },
  {
   "cell_type": "code",
   "execution_count": 32,
   "id": "908f6990",
   "metadata": {},
   "outputs": [
    {
     "name": "stdout",
     "output_type": "stream",
     "text": [
      "Run(Experiment: student-mental,\n",
      "Id: aadcdddd-5811-41b5-88a8-3b50625ce66b,\n",
      "Type: None,\n",
      "Status: Completed)\n"
     ]
    }
   ],
   "source": [
    "# afficher tous les runs \n",
    "for r in experiment.get_runs():\n",
    "    print(r)"
   ]
  },
  {
   "cell_type": "markdown",
   "id": "5a5cc6bd",
   "metadata": {},
   "source": [
    "Trouver le Run actuel "
   ]
  },
  {
   "cell_type": "code",
   "execution_count": 33,
   "id": "bc096bc4",
   "metadata": {},
   "outputs": [],
   "source": [
    "run_id = 'aadcdddd-5811-41b5-88a8-3b50625ce66b'\n",
    "run = [r for r in experiment.get_runs() if r.id == run_id][0]"
   ]
  },
  {
   "cell_type": "code",
   "execution_count": 34,
   "id": "47672e52",
   "metadata": {},
   "outputs": [],
   "source": [
    "model = run.register_model(model_name = 'student_mental_model', model_path = 'best_estimator/model.pkl')"
   ]
  },
  {
   "cell_type": "markdown",
   "id": "a0ca201f",
   "metadata": {},
   "source": [
    "## 4. Déploiement en local\n",
    "\n",
    "Maintenant nous allons debuger le web service locallement avant de le déployer en production avec ACI \" Azure container Instance\""
   ]
  },
  {
   "cell_type": "code",
   "execution_count": 35,
   "id": "757c0ac4",
   "metadata": {},
   "outputs": [],
   "source": [
    "from azureml.core.model import Model\n",
    "model = Model(ws, 'student_mental_model', version=1)"
   ]
  },
  {
   "cell_type": "code",
   "execution_count": 54,
   "id": "3b3d9916",
   "metadata": {},
   "outputs": [
    {
     "data": {
      "text/plain": [
       "{\n",
       "    \"assetId\": \"azureml://locations/francecentral/workspaces/3252fc44-3209-481d-bf47-5f2f1c75eb85/environments/student-mental-env/versions/4\",\n",
       "    \"databricks\": {\n",
       "        \"eggLibraries\": [],\n",
       "        \"jarLibraries\": [],\n",
       "        \"mavenLibraries\": [],\n",
       "        \"pypiLibraries\": [],\n",
       "        \"rcranLibraries\": []\n",
       "    },\n",
       "    \"docker\": {\n",
       "        \"arguments\": [],\n",
       "        \"baseDockerfile\": null,\n",
       "        \"baseImage\": \"mcr.microsoft.com/azureml/openmpi4.1.0-ubuntu20.04:20231030.v1\",\n",
       "        \"baseImageRegistry\": {\n",
       "            \"address\": null,\n",
       "            \"password\": null,\n",
       "            \"registryIdentity\": null,\n",
       "            \"username\": null\n",
       "        },\n",
       "        \"buildContext\": null,\n",
       "        \"enabled\": false,\n",
       "        \"platform\": {\n",
       "            \"architecture\": \"amd64\",\n",
       "            \"os\": \"Linux\"\n",
       "        },\n",
       "        \"sharedVolumes\": true,\n",
       "        \"shmSize\": null\n",
       "    },\n",
       "    \"environmentVariables\": {\n",
       "        \"EXAMPLE_ENV_VAR\": \"EXAMPLE_VALUE\"\n",
       "    },\n",
       "    \"inferencingStackVersion\": null,\n",
       "    \"name\": \"student-mental-env\",\n",
       "    \"python\": {\n",
       "        \"baseCondaEnvironment\": null,\n",
       "        \"condaDependencies\": {\n",
       "            \"channels\": [\n",
       "                \"conda-forge\"\n",
       "            ],\n",
       "            \"dependencies\": [\n",
       "                \"python=3.9.13\",\n",
       "                \"pip<=23.2.1\",\n",
       "                {\n",
       "                    \"pip\": [\n",
       "                        \"mlflow\",\n",
       "                        \"cloudpickle==2.0.0\",\n",
       "                        \"lz4==3.1.3\",\n",
       "                        \"numpy==1.21.0\",\n",
       "                        \"packaging\",\n",
       "                        \"pathlib==1.0.1\",\n",
       "                        \"psutil==5.9.0\",\n",
       "                        \"pyyaml==6.0\",\n",
       "                        \"scikit-learn==1.3.2\",\n",
       "                        \"scipy==1.9.1\"\n",
       "                    ]\n",
       "                }\n",
       "            ],\n",
       "            \"name\": \"mlflow-env\"\n",
       "        },\n",
       "        \"condaDependenciesFile\": null,\n",
       "        \"interpreterPath\": \"python\",\n",
       "        \"userManagedDependencies\": false\n",
       "    },\n",
       "    \"r\": null,\n",
       "    \"spark\": {\n",
       "        \"packages\": [],\n",
       "        \"precachePackages\": true,\n",
       "        \"repositories\": []\n",
       "    },\n",
       "    \"version\": \"4\"\n",
       "}"
      ]
     },
     "execution_count": 54,
     "metadata": {},
     "output_type": "execute_result"
    }
   ],
   "source": [
    "from azureml.core import Environment\n",
    "env = Environment.from_conda_specification(name='student-mental-env', file_path=\"./conda.yaml\")\n",
    "env.register(ws)"
   ]
  },
  {
   "cell_type": "markdown",
   "id": "900495f8",
   "metadata": {},
   "source": [
    "### Définons la configuration d'inférence "
   ]
  },
  {
   "cell_type": "code",
   "execution_count": 55,
   "id": "d5132101",
   "metadata": {},
   "outputs": [
    {
     "name": "stderr",
     "output_type": "stream",
     "text": [
      "Warning, azureml-defaults not detected in provided environment pip dependencies. The azureml-defaults package contains requirements for the inference stack to run, and should be included.\n"
     ]
    }
   ],
   "source": [
    "from azureml.core.model import InferenceConfig\n",
    "inference_config = InferenceConfig(\n",
    "    environment=env,\n",
    "    source_directory=\".\",\n",
    "    entry_script=\"./score.py\",\n",
    ")"
   ]
  },
  {
   "cell_type": "markdown",
   "id": "33a037d7",
   "metadata": {},
   "source": [
    "### Définons la configuration de déploiement"
   ]
  },
  {
   "cell_type": "code",
   "execution_count": 38,
   "id": "d36c5294",
   "metadata": {},
   "outputs": [],
   "source": [
    "from azureml.core.webservice import LocalWebservice\n",
    "deployment_config = LocalWebservice.deploy_configuration(port=6789)"
   ]
  },
  {
   "cell_type": "markdown",
   "id": "89e40dc7",
   "metadata": {},
   "source": [
    "### Déployons le service localement\n",
    "\n",
    "Avant d'exécuter la cellule ci-dessous, assurez vous que Docker est démarré "
   ]
  },
  {
   "cell_type": "code",
   "execution_count": 40,
   "id": "84cb2426",
   "metadata": {
    "scrolled": true
   },
   "outputs": [
    {
     "name": "stdout",
     "output_type": "stream",
     "text": [
      "Downloading model student_mental_model:1 to /tmp/azureml_m348bsuj/student_mental_model/1\n",
      "Generating Docker build context.\n",
      "2023/12/02 17:31:59 Downloading source code...\n",
      "2023/12/02 17:31:59 Finished downloading source code\n",
      "2023/12/02 17:32:00 Creating Docker network: acb_default_network, driver: 'bridge'\n",
      "2023/12/02 17:32:00 Successfully set up Docker network: acb_default_network\n",
      "2023/12/02 17:32:00 Setting up Docker configuration...\n",
      "2023/12/02 17:32:00 Successfully set up Docker configuration\n",
      "2023/12/02 17:32:00 Logging in to registry: 3252fc443209481dbf475f2f1c75eb85.azurecr.io\n",
      "2023/12/02 17:32:01 Successfully logged into 3252fc443209481dbf475f2f1c75eb85.azurecr.io\n",
      "2023/12/02 17:32:02 Volume source scriptsFromEms successfully created\n",
      "2023/12/02 17:32:02 Executing step ID: acb_step_0. Timeout(sec): 5400, Working directory: '', Network: 'acb_default_network'\n",
      "2023/12/02 17:32:02 Scanning for dependencies...\n",
      "2023/12/02 17:32:02 Successfully scanned dependencies\n",
      "2023/12/02 17:32:02 Launching container with name: acb_step_0\n",
      "Sending build context to Docker daemon  77.31kB\n",
      "Step 1/21 : FROM mcr.microsoft.com/azureml/openmpi4.1.0-ubuntu20.04:20231030.v1@sha256:937a0e727cfc5270649a77ddca125322748d10066b4b07ffe548881f66a68c40\n",
      "mcr.microsoft.com/azureml/openmpi4.1.0-ubuntu20.04:20231030.v1@sha256:937a0e727cfc5270649a77ddca125322748d10066b4b07ffe548881f66a68c40: Pulling from azureml/openmpi4.1.0-ubuntu20.04\n",
      "7a2c55901189: Pulling fs layer\n",
      "432bf036493a: Pulling fs layer\n",
      "aa894bd60aee: Pulling fs layer\n",
      "0dba31490a99: Pulling fs layer\n",
      "ff03b100c8be: Pulling fs layer\n",
      "f8c7731b1f9b: Pulling fs layer\n",
      "8d008a4b3d03: Pulling fs layer\n",
      "06ed8a435d6f: Pulling fs layer\n",
      "b8c2e1145c8b: Pulling fs layer\n",
      "6d3afa035b05: Pulling fs layer\n",
      "0dba31490a99: Waiting\n",
      "ff03b100c8be: Waiting\n",
      "f8c7731b1f9b: Waiting\n",
      "8d008a4b3d03: Waiting\n",
      "06ed8a435d6f: Waiting\n",
      "b8c2e1145c8b: Waiting\n",
      "6d3afa035b05: Waiting\n",
      "aa894bd60aee: Verifying Checksum\n",
      "aa894bd60aee: Download complete\n",
      "0dba31490a99: Verifying Checksum\n",
      "0dba31490a99: Download complete\n",
      "7a2c55901189: Verifying Checksum\n",
      "7a2c55901189: Download complete\n",
      "432bf036493a: Verifying Checksum\n",
      "432bf036493a: Download complete\n",
      "7a2c55901189: Pull complete\n",
      "ff03b100c8be: Verifying Checksum\n",
      "ff03b100c8be: Download complete\n",
      "8d008a4b3d03: Verifying Checksum\n",
      "8d008a4b3d03: Download complete\n",
      "b8c2e1145c8b: Verifying Checksum\n",
      "b8c2e1145c8b: Download complete\n",
      "6d3afa035b05: Verifying Checksum\n",
      "6d3afa035b05: Download complete\n",
      "06ed8a435d6f: Verifying Checksum\n",
      "06ed8a435d6f: Download complete\n",
      "f8c7731b1f9b: Verifying Checksum\n",
      "f8c7731b1f9b: Download complete\n",
      "432bf036493a: Pull complete\n",
      "aa894bd60aee: Pull complete\n",
      "0dba31490a99: Pull complete\n",
      "ff03b100c8be: Pull complete\n",
      "f8c7731b1f9b: Pull complete\n",
      "8d008a4b3d03: Pull complete\n",
      "06ed8a435d6f: Pull complete\n",
      "b8c2e1145c8b: Pull complete\n",
      "6d3afa035b05: Pull complete\n",
      "Digest: sha256:937a0e727cfc5270649a77ddca125322748d10066b4b07ffe548881f66a68c40\n",
      "Status: Downloaded newer image for mcr.microsoft.com/azureml/openmpi4.1.0-ubuntu20.04:20231030.v1@sha256:937a0e727cfc5270649a77ddca125322748d10066b4b07ffe548881f66a68c40\n",
      " ---> 818bfddae356\n",
      "Step 2/21 : USER root\n",
      " ---> Running in c99b1cd5d39d\n",
      "Removing intermediate container c99b1cd5d39d\n",
      " ---> 529c2546f5d1\n",
      "Step 3/21 : RUN mkdir -p $HOME/.cache\n",
      " ---> Running in c17120a6b0d4\n",
      "Removing intermediate container c17120a6b0d4\n",
      " ---> ae73eea49cc4\n",
      "Step 4/21 : WORKDIR /\n",
      " ---> Running in 07a73ecc5b9f\n",
      "Removing intermediate container 07a73ecc5b9f\n",
      " ---> 571e404dab1e\n",
      "Step 5/21 : COPY azureml-environment-setup/99brokenproxy /etc/apt/apt.conf.d/\n",
      " ---> 3445732d756b\n",
      "Step 6/21 : RUN if dpkg --compare-versions `conda --version | grep -oE '[^ ]+$'` lt 4.4.11; then conda install conda==4.4.11; fi\n",
      " ---> Running in 26c9597f2ba9\n",
      "Removing intermediate container 26c9597f2ba9\n",
      " ---> 11f97b0af3a8\n",
      "Step 7/21 : COPY azureml-environment-setup/mutated_conda_dependencies.yml azureml-environment-setup/mutated_conda_dependencies.yml\n",
      " ---> 30da340ae14a\n",
      "Step 8/21 : RUN ldconfig /usr/local/cuda/lib64/stubs && conda env create -p /azureml-envs/azureml_d6018e400accfe4dea138b181d8a1018 -f azureml-environment-setup/mutated_conda_dependencies.yml && rm -rf \"$HOME/.cache/pip\" && conda clean -aqy && CONDA_ROOT_DIR=$(conda info --root) && rm -rf \"$CONDA_ROOT_DIR/pkgs\" && find \"$CONDA_ROOT_DIR\" -type d -name __pycache__ -exec rm -rf {} + && ldconfig\n",
      " ---> Running in 232be339a22a\n",
      "Retrieving notices: ...working... done\n",
      "Collecting package metadata (repodata.json): ...working... \n",
      "done\n",
      "Solving environment: ...working... done\n",
      "\n",
      "Downloading and Extracting Packages: ...working... done\n",
      "Preparing transaction: ...working... done\n",
      "Verifying transaction: ...working... done\n",
      "Executing transaction: ...working... done\n",
      "Installing pip dependencies: ...working... \n",
      "Ran pip subprocess with arguments:\n",
      "['/azureml-envs/azureml_d6018e400accfe4dea138b181d8a1018/bin/python', '-m', 'pip', 'install', '-U', '-r', '/azureml-environment-setup/condaenv.69h9jkqj.requirements.txt', '--exists-action=b']\n",
      "Pip subprocess output:\n",
      "Collecting mlflow==2.8.1 (from -r /azureml-environment-setup/condaenv.69h9jkqj.requirements.txt (line 1))\n",
      "  Obtaining dependency information for mlflow==2.8.1 from https://files.pythonhosted.org/packages/82/89/c9413b77401bf2a83b93feaac32c350f84813b88193d5fb89ff9deadba96/mlflow-2.8.1-py3-none-any.whl.metadata\n",
      "  Downloading mlflow-2.8.1-py3-none-any.whl.metadata (13 kB)\n",
      "Collecting cloudpickle==2.0.0 (from -r /azureml-environment-setup/condaenv.69h9jkqj.requirements.txt (line 2))\n",
      "  Downloading cloudpickle-2.0.0-py3-none-any.whl (25 kB)\n",
      "Collecting lz4==3.1.3 (from -r /azureml-environment-setup/condaenv.69h9jkqj.requirements.txt (line 3))\n",
      "  Downloading lz4-3.1.3-cp39-cp39-manylinux2010_x86_64.whl (1.8 MB)\n",
      "     ━━━━━━━━━━━━━━━━━━━━━━━━━━━━━━━━━━━━━━━━ 1.8/1.8 MB 36.8 MB/s eta 0:00:00\n",
      "Collecting numpy==1.21.0 (from -r /azureml-environment-setup/condaenv.69h9jkqj.requirements.txt (line 4))\n",
      "  Downloading numpy-1.21.0-cp39-cp39-manylinux_2_12_x86_64.manylinux2010_x86_64.whl (15.7 MB)\n",
      "     ━━━━━━━━━━━━━━━━━━━━━━━━━━━━━━━━━━━━━━━━ 15.7/15.7 MB 96.1 MB/s eta 0:00:00\n",
      "Collecting packaging (from -r /azureml-environment-setup/condaenv.69h9jkqj.requirements.txt (line 5))\n",
      "  Obtaining dependency information for packaging from https://files.pythonhosted.org/packages/ec/1a/610693ac4ee14fcdf2d9bf3c493370e4f2ef7ae2e19217d7a237ff42367d/packaging-23.2-py3-none-any.whl.metadata\n",
      "  Downloading packaging-23.2-py3-none-any.whl.metadata (3.2 kB)\n",
      "Collecting pathlib==1.0.1 (from -r /azureml-environment-setup/condaenv.69h9jkqj.requirements.txt (line 6))\n",
      "  Downloading pathlib-1.0.1-py3-none-any.whl (14 kB)\n",
      "Collecting psutil==5.9.0 (from -r /azureml-environment-setup/condaenv.69h9jkqj.requirements.txt (line 7))\n",
      "  Downloading psutil-5.9.0-cp39-cp39-manylinux_2_12_x86_64.manylinux2010_x86_64.manylinux_2_17_x86_64.manylinux2014_x86_64.whl (280 kB)\n",
      "     ━━━━━━━━━━━━━━━━━━━━━━━━━━━━━━━━━━━━━━ 280.4/280.4 kB 55.0 MB/s eta 0:00:00\n",
      "Collecting pyyaml==6.0 (from -r /azureml-environment-setup/condaenv.69h9jkqj.requirements.txt (line 8))\n",
      "  Downloading PyYAML-6.0-cp39-cp39-manylinux_2_5_x86_64.manylinux1_x86_64.manylinux_2_12_x86_64.manylinux2010_x86_64.whl (661 kB)\n",
      "     ━━━━━━━━━━━━━━━━━━━━━━━━━━━━━━━━━━━━━━ 661.8/661.8 kB 97.3 MB/s eta 0:00:00\n",
      "Collecting scikit-learn==1.3.2 (from -r /azureml-environment-setup/condaenv.69h9jkqj.requirements.txt (line 9))\n",
      "  Obtaining dependency information for scikit-learn==1.3.2 from https://files.pythonhosted.org/packages/25/89/dce01a35d354159dcc901e3c7e7eb3fe98de5cb3639c6cd39518d8830caa/scikit_learn-1.3.2-cp39-cp39-manylinux_2_17_x86_64.manylinux2014_x86_64.whl.metadata\n",
      "  Downloading scikit_learn-1.3.2-cp39-cp39-manylinux_2_17_x86_64.manylinux2014_x86_64.whl.metadata (11 kB)\n",
      "Collecting scipy==1.9.1 (from -r /azureml-environment-setup/condaenv.69h9jkqj.requirements.txt (line 10))\n",
      "  Downloading scipy-1.9.1-cp39-cp39-manylinux_2_17_x86_64.manylinux2014_x86_64.whl (43.9 MB)\n",
      "     ━━━━━━━━━━━━━━━━━━━━━━━━━━━━━━━━━━━━━━━━ 43.9/43.9 MB 78.6 MB/s eta 0:00:00\n",
      "Collecting click<9,>=7.0 (from mlflow==2.8.1->-r /azureml-environment-setup/condaenv.69h9jkqj.requirements.txt (line 1))\n",
      "  Obtaining dependency information for click<9,>=7.0 from https://files.pythonhosted.org/packages/00/2e/d53fa4befbf2cfa713304affc7ca780ce4fc1fd8710527771b58311a3229/click-8.1.7-py3-none-any.whl.metadata\n",
      "  Downloading click-8.1.7-py3-none-any.whl.metadata (3.0 kB)\n",
      "Collecting databricks-cli<1,>=0.8.7 (from mlflow==2.8.1->-r /azureml-environment-setup/condaenv.69h9jkqj.requirements.txt (line 1))\n",
      "  Obtaining dependency information for databricks-cli<1,>=0.8.7 from https://files.pythonhosted.org/packages/ae/a3/d56f8382c40899301f327d1c881278b09c9b8bc301c2c111633a0346d06e/databricks_cli-0.18.0-py2.py3-none-any.whl.metadata\n",
      "  Downloading databricks_cli-0.18.0-py2.py3-none-any.whl.metadata (4.0 kB)\n",
      "Collecting entrypoints<1 (from mlflow==2.8.1->-r /azureml-environment-setup/condaenv.69h9jkqj.requirements.txt (line 1))\n",
      "  Downloading entrypoints-0.4-py3-none-any.whl (5.3 kB)\n",
      "Collecting gitpython<4,>=2.1.0 (from mlflow==2.8.1->-r /azureml-environment-setup/condaenv.69h9jkqj.requirements.txt (line 1))\n",
      "  Obtaining dependency information for gitpython<4,>=2.1.0 from https://files.pythonhosted.org/packages/8d/c4/82b858fb6483dfb5e338123c154d19c043305b01726a67d89532b8f8f01b/GitPython-3.1.40-py3-none-any.whl.metadata\n",
      "  Downloading GitPython-3.1.40-py3-none-any.whl.metadata (12 kB)\n",
      "Collecting protobuf<5,>=3.12.0 (from mlflow==2.8.1->-r /azureml-environment-setup/condaenv.69h9jkqj.requirements.txt (line 1))\n",
      "  Obtaining dependency information for protobuf<5,>=3.12.0 from https://files.pythonhosted.org/packages/ae/5b/7ed02a9b8e752c8f7bca8661779c0275b9e3e6a903a3045e6da51f796dda/protobuf-4.25.1-cp37-abi3-manylinux2014_x86_64.whl.metadata\n",
      "  Downloading protobuf-4.25.1-cp37-abi3-manylinux2014_x86_64.whl.metadata (541 bytes)\n",
      "Collecting pytz<2024 (from mlflow==2.8.1->-r /azureml-environment-setup/condaenv.69h9jkqj.requirements.txt (line 1))\n",
      "  Obtaining dependency information for pytz<2024 from https://files.pythonhosted.org/packages/32/4d/aaf7eff5deb402fd9a24a1449a8119f00d74ae9c2efa79f8ef9994261fc2/pytz-2023.3.post1-py2.py3-none-any.whl.metadata\n",
      "  Downloading pytz-2023.3.post1-py2.py3-none-any.whl.metadata (22 kB)\n",
      "Collecting requests<3,>=2.17.3 (from mlflow==2.8.1->-r /azureml-environment-setup/condaenv.69h9jkqj.requirements.txt (line 1))\n",
      "  Obtaining dependency information for requests<3,>=2.17.3 from https://files.pythonhosted.org/packages/70/8e/0e2d847013cb52cd35b38c009bb167a1a26b2ce6cd6965bf26b47bc0bf44/requests-2.31.0-py3-none-any.whl.metadata\n",
      "  Downloading requests-2.31.0-py3-none-any.whl.metadata (4.6 kB)\n",
      "Collecting importlib-metadata!=4.7.0,<7,>=3.7.0 (from mlflow==2.8.1->-r /azureml-environment-setup/condaenv.69h9jkqj.requirements.txt (line 1))\n",
      "  Obtaining dependency information for importlib-metadata!=4.7.0,<7,>=3.7.0 from https://files.pythonhosted.org/packages/fa/86/c232691b27dd721d810243c9bfd97abc81bc5a0c5370e07002511fce87c1/importlib_metadata-6.9.0-py3-none-any.whl.metadata\n",
      "  Downloading importlib_metadata-6.9.0-py3-none-any.whl.metadata (4.9 kB)\n",
      "Collecting sqlparse<1,>=0.4.0 (from mlflow==2.8.1->-r /azureml-environment-setup/condaenv.69h9jkqj.requirements.txt (line 1))\n",
      "  Downloading sqlparse-0.4.4-py3-none-any.whl (41 kB)\n",
      "     ━━━━━━━━━━━━━━━━━━━━━━━━━━━━━━━━━━━━━━━━ 41.2/41.2 kB 10.1 MB/s eta 0:00:00\n",
      "Collecting alembic!=1.10.0,<2 (from mlflow==2.8.1->-r /azureml-environment-setup/condaenv.69h9jkqj.requirements.txt (line 1))\n",
      "  Obtaining dependency information for alembic!=1.10.0,<2 from https://files.pythonhosted.org/packages/d5/d8/fc331ad9aa5f2a551042582c3ededd70ee4e72b032089b1784150a5704ac/alembic-1.13.0-py3-none-any.whl.metadata\n",
      "  Downloading alembic-1.13.0-py3-none-any.whl.metadata (7.4 kB)\n",
      "Collecting docker<7,>=4.0.0 (from mlflow==2.8.1->-r /azureml-environment-setup/condaenv.69h9jkqj.requirements.txt (line 1))\n",
      "  Obtaining dependency information for docker<7,>=4.0.0 from https://files.pythonhosted.org/packages/db/be/3032490fa33b36ddc8c4b1da3252c6f974e7133f1a50de00c6b85cca203a/docker-6.1.3-py3-none-any.whl.metadata\n",
      "  Downloading docker-6.1.3-py3-none-any.whl.metadata (3.5 kB)\n",
      "Collecting Flask<4 (from mlflow==2.8.1->-r /azureml-environment-setup/condaenv.69h9jkqj.requirements.txt (line 1))\n",
      "  Obtaining dependency information for Flask<4 from https://files.pythonhosted.org/packages/36/42/015c23096649b908c809c69388a805a571a3bea44362fe87e33fc3afa01f/flask-3.0.0-py3-none-any.whl.metadata\n",
      "  Downloading flask-3.0.0-py3-none-any.whl.metadata (3.6 kB)\n",
      "Collecting pandas<3 (from mlflow==2.8.1->-r /azureml-environment-setup/condaenv.69h9jkqj.requirements.txt (line 1))\n",
      "  Obtaining dependency information for pandas<3 from https://files.pythonhosted.org/packages/4e/7b/6c251522fd21ad2a51f26df677582ed917650cb8dff286e17625e7a6531b/pandas-2.1.3-cp39-cp39-manylinux_2_17_x86_64.manylinux2014_x86_64.whl.metadata\n",
      "  Downloading pandas-2.1.3-cp39-cp39-manylinux_2_17_x86_64.manylinux2014_x86_64.whl.metadata (18 kB)\n",
      "Collecting querystring-parser<2 (from mlflow==2.8.1->-r /azureml-environment-setup/condaenv.69h9jkqj.requirements.txt (line 1))\n",
      "  Downloading querystring_parser-1.2.4-py2.py3-none-any.whl (7.9 kB)\n",
      "Collecting sqlalchemy<3,>=1.4.0 (from mlflow==2.8.1->-r /azureml-environment-setup/condaenv.69h9jkqj.requirements.txt (line 1))\n",
      "  Obtaining dependency information for sqlalchemy<3,>=1.4.0 from https://files.pythonhosted.org/packages/5c/e7/d363abf1882ef31e780821b27bda4750d31fd46149da6b3741e99b23f873/SQLAlchemy-2.0.23-cp39-cp39-manylinux_2_17_x86_64.manylinux2014_x86_64.whl.metadata\n",
      "  Downloading SQLAlchemy-2.0.23-cp39-cp39-manylinux_2_17_x86_64.manylinux2014_x86_64.whl.metadata (9.6 kB)\n",
      "Collecting pyarrow<15,>=4.0.0 (from mlflow==2.8.1->-r /azureml-environment-setup/condaenv.69h9jkqj.requirements.txt (line 1))\n",
      "  Obtaining dependency information for pyarrow<15,>=4.0.0 from https://files.pythonhosted.org/packages/57/a6/a099fd81648b5b0069c7bc920d2bbecdec5d627e185c99dd7bb7496b92fa/pyarrow-14.0.1-cp39-cp39-manylinux_2_28_x86_64.whl.metadata\n",
      "  Downloading pyarrow-14.0.1-cp39-cp39-manylinux_2_28_x86_64.whl.metadata (3.0 kB)\n",
      "Collecting markdown<4,>=3.3 (from mlflow==2.8.1->-r /azureml-environment-setup/condaenv.69h9jkqj.requirements.txt (line 1))\n",
      "  Obtaining dependency information for markdown<4,>=3.3 from https://files.pythonhosted.org/packages/70/58/2c5a654173937d9f540a4971c569b44dcd55e5424a484d954cdaeebcf79c/Markdown-3.5.1-py3-none-any.whl.metadata\n",
      "  Downloading Markdown-3.5.1-py3-none-any.whl.metadata (7.1 kB)\n",
      "Collecting matplotlib<4 (from mlflow==2.8.1->-r /azureml-environment-setup/condaenv.69h9jkqj.requirements.txt (line 1))\n",
      "  Obtaining dependency information for matplotlib<4 from https://files.pythonhosted.org/packages/53/1f/653d60d2ec81a6095fa3e571cf2de57742bab8a51a5c01de26730ce3dc53/matplotlib-3.8.2-cp39-cp39-manylinux_2_17_x86_64.manylinux2014_x86_64.whl.metadata\n",
      "  Downloading matplotlib-3.8.2-cp39-cp39-manylinux_2_17_x86_64.manylinux2014_x86_64.whl.metadata (5.8 kB)\n",
      "Collecting gunicorn<22 (from mlflow==2.8.1->-r /azureml-environment-setup/condaenv.69h9jkqj.requirements.txt (line 1))\n",
      "  Obtaining dependency information for gunicorn<22 from https://files.pythonhosted.org/packages/0e/2a/c3a878eccb100ccddf45c50b6b8db8cf3301a6adede6e31d48e8531cab13/gunicorn-21.2.0-py3-none-any.whl.metadata\n",
      "  Downloading gunicorn-21.2.0-py3-none-any.whl.metadata (4.1 kB)\n",
      "Collecting Jinja2<4,>=2.11 (from mlflow==2.8.1->-r /azureml-environment-setup/condaenv.69h9jkqj.requirements.txt (line 1))\n",
      "  Downloading Jinja2-3.1.2-py3-none-any.whl (133 kB)\n",
      "     ━━━━━━━━━━━━━━━━━━━━━━━━━━━━━━━━━━━━━━ 133.1/133.1 kB 35.5 MB/s eta 0:00:00\n",
      "Collecting joblib>=1.1.1 (from scikit-learn==1.3.2->-r /azureml-environment-setup/condaenv.69h9jkqj.requirements.txt (line 9))\n",
      "  Obtaining dependency information for joblib>=1.1.1 from https://files.pythonhosted.org/packages/10/40/d551139c85db202f1f384ba8bcf96aca2f329440a844f924c8a0040b6d02/joblib-1.3.2-py3-none-any.whl.metadata\n",
      "  Downloading joblib-1.3.2-py3-none-any.whl.metadata (5.4 kB)\n",
      "Collecting threadpoolctl>=2.0.0 (from scikit-learn==1.3.2->-r /azureml-environment-setup/condaenv.69h9jkqj.requirements.txt (line 9))\n",
      "  Obtaining dependency information for threadpoolctl>=2.0.0 from https://files.pythonhosted.org/packages/81/12/fd4dea011af9d69e1cad05c75f3f7202cdcbeac9b712eea58ca779a72865/threadpoolctl-3.2.0-py3-none-any.whl.metadata\n",
      "  Downloading threadpoolctl-3.2.0-py3-none-any.whl.metadata (10.0 kB)\n",
      "Collecting Mako (from alembic!=1.10.0,<2->mlflow==2.8.1->-r /azureml-environment-setup/condaenv.69h9jkqj.requirements.txt (line 1))\n",
      "  Obtaining dependency information for Mako from https://files.pythonhosted.org/packages/24/3b/11fe92d68c6a42468ddab0cf03f454419b0788fff4e91ba46b8bebafeffd/Mako-1.3.0-py3-none-any.whl.metadata\n",
      "  Downloading Mako-1.3.0-py3-none-any.whl.metadata (2.9 kB)\n",
      "Collecting typing-extensions>=4 (from alembic!=1.10.0,<2->mlflow==2.8.1->-r /azureml-environment-setup/condaenv.69h9jkqj.requirements.txt (line 1))\n",
      "  Obtaining dependency information for typing-extensions>=4 from https://files.pythonhosted.org/packages/24/21/7d397a4b7934ff4028987914ac1044d3b7d52712f30e2ac7a2ae5bc86dd0/typing_extensions-4.8.0-py3-none-any.whl.metadata\n",
      "  Downloading typing_extensions-4.8.0-py3-none-any.whl.metadata (3.0 kB)\n",
      "Collecting pyjwt>=1.7.0 (from databricks-cli<1,>=0.8.7->mlflow==2.8.1->-r /azureml-environment-setup/condaenv.69h9jkqj.requirements.txt (line 1))\n",
      "  Obtaining dependency information for pyjwt>=1.7.0 from https://files.pythonhosted.org/packages/2b/4f/e04a8067c7c96c364cef7ef73906504e2f40d690811c021e1a1901473a19/PyJWT-2.8.0-py3-none-any.whl.metadata\n",
      "  Downloading PyJWT-2.8.0-py3-none-any.whl.metadata (4.2 kB)\n",
      "Collecting oauthlib>=3.1.0 (from databricks-cli<1,>=0.8.7->mlflow==2.8.1->-r /azureml-environment-setup/condaenv.69h9jkqj.requirements.txt (line 1))\n",
      "  Downloading oauthlib-3.2.2-py3-none-any.whl (151 kB)\n",
      "     ━━━━━━━━━━━━━━━━━━━━━━━━━━━━━━━━━━━━━━ 151.7/151.7 kB 31.0 MB/s eta 0:00:00\n",
      "Collecting tabulate>=0.7.7 (from databricks-cli<1,>=0.8.7->mlflow==2.8.1->-r /azureml-environment-setup/condaenv.69h9jkqj.requirements.txt (line 1))\n",
      "  Downloading tabulate-0.9.0-py3-none-any.whl (35 kB)\n",
      "Collecting six>=1.10.0 (from databricks-cli<1,>=0.8.7->mlflow==2.8.1->-r /azureml-environment-setup/condaenv.69h9jkqj.requirements.txt (line 1))\n",
      "  Downloading six-1.16.0-py2.py3-none-any.whl (11 kB)\n",
      "Collecting urllib3<3,>=1.26.7 (from databricks-cli<1,>=0.8.7->mlflow==2.8.1->-r /azureml-environment-setup/condaenv.69h9jkqj.requirements.txt (line 1))\n",
      "  Obtaining dependency information for urllib3<3,>=1.26.7 from https://files.pythonhosted.org/packages/96/94/c31f58c7a7f470d5665935262ebd7455c7e4c7782eb525658d3dbf4b9403/urllib3-2.1.0-py3-none-any.whl.metadata\n",
      "  Downloading urllib3-2.1.0-py3-none-any.whl.metadata (6.4 kB)\n",
      "Collecting websocket-client>=0.32.0 (from docker<7,>=4.0.0->mlflow==2.8.1->-r /azureml-environment-setup/condaenv.69h9jkqj.requirements.txt (line 1))\n",
      "  Obtaining dependency information for websocket-client>=0.32.0 from https://files.pythonhosted.org/packages/c4/3c/1892ce394828c43d4f65248ebdee3854114266b75d1f5915cb211155ad7b/websocket_client-1.6.4-py3-none-any.whl.metadata\n",
      "  Downloading websocket_client-1.6.4-py3-none-any.whl.metadata (7.7 kB)\n",
      "Collecting Werkzeug>=3.0.0 (from Flask<4->mlflow==2.8.1->-r /azureml-environment-setup/condaenv.69h9jkqj.requirements.txt (line 1))\n",
      "  Obtaining dependency information for Werkzeug>=3.0.0 from https://files.pythonhosted.org/packages/c3/fc/254c3e9b5feb89ff5b9076a23218dafbc99c96ac5941e900b71206e6313b/werkzeug-3.0.1-py3-none-any.whl.metadata\n",
      "  Downloading werkzeug-3.0.1-py3-none-any.whl.metadata (4.1 kB)\n",
      "Collecting itsdangerous>=2.1.2 (from Flask<4->mlflow==2.8.1->-r /azureml-environment-setup/condaenv.69h9jkqj.requirements.txt (line 1))\n",
      "  Downloading itsdangerous-2.1.2-py3-none-any.whl (15 kB)\n",
      "Collecting blinker>=1.6.2 (from Flask<4->mlflow==2.8.1->-r /azureml-environment-setup/condaenv.69h9jkqj.requirements.txt (line 1))\n",
      "  Obtaining dependency information for blinker>=1.6.2 from https://files.pythonhosted.org/packages/fa/2a/7f3714cbc6356a0efec525ce7a0613d581072ed6eb53eb7b9754f33db807/blinker-1.7.0-py3-none-any.whl.metadata\n",
      "  Downloading blinker-1.7.0-py3-none-any.whl.metadata (1.9 kB)\n",
      "Collecting gitdb<5,>=4.0.1 (from gitpython<4,>=2.1.0->mlflow==2.8.1->-r /azureml-environment-setup/condaenv.69h9jkqj.requirements.txt (line 1))\n",
      "  Obtaining dependency information for gitdb<5,>=4.0.1 from https://files.pythonhosted.org/packages/fd/5b/8f0c4a5bb9fd491c277c21eff7ccae71b47d43c4446c9d0c6cff2fe8c2c4/gitdb-4.0.11-py3-none-any.whl.metadata\n",
      "  Downloading gitdb-4.0.11-py3-none-any.whl.metadata (1.2 kB)\n",
      "Collecting zipp>=0.5 (from importlib-metadata!=4.7.0,<7,>=3.7.0->mlflow==2.8.1->-r /azureml-environment-setup/condaenv.69h9jkqj.requirements.txt (line 1))\n",
      "  Obtaining dependency information for zipp>=0.5 from https://files.pythonhosted.org/packages/d9/66/48866fc6b158c81cc2bfecc04c480f105c6040e8b077bc54c634b4a67926/zipp-3.17.0-py3-none-any.whl.metadata\n",
      "  Downloading zipp-3.17.0-py3-none-any.whl.metadata (3.7 kB)\n",
      "Collecting MarkupSafe>=2.0 (from Jinja2<4,>=2.11->mlflow==2.8.1->-r /azureml-environment-setup/condaenv.69h9jkqj.requirements.txt (line 1))\n",
      "  Obtaining dependency information for MarkupSafe>=2.0 from https://files.pythonhosted.org/packages/de/63/cb7e71984e9159ec5f45b5e81e896c8bdd0e45fe3fc6ce02ab497f0d790e/MarkupSafe-2.1.3-cp39-cp39-manylinux_2_17_x86_64.manylinux2014_x86_64.whl.metadata\n",
      "  Downloading MarkupSafe-2.1.3-cp39-cp39-manylinux_2_17_x86_64.manylinux2014_x86_64.whl.metadata (3.0 kB)\n",
      "Collecting contourpy>=1.0.1 (from matplotlib<4->mlflow==2.8.1->-r /azureml-environment-setup/condaenv.69h9jkqj.requirements.txt (line 1))\n",
      "  Obtaining dependency information for contourpy>=1.0.1 from https://files.pythonhosted.org/packages/a9/ba/d8fd1380876f1e9114157606302e3644c85f6d116aeba354c212ee13edc7/contourpy-1.2.0-cp39-cp39-manylinux_2_17_x86_64.manylinux2014_x86_64.whl.metadata\n",
      "  Downloading contourpy-1.2.0-cp39-cp39-manylinux_2_17_x86_64.manylinux2014_x86_64.whl.metadata (5.8 kB)\n",
      "Collecting cycler>=0.10 (from matplotlib<4->mlflow==2.8.1->-r /azureml-environment-setup/condaenv.69h9jkqj.requirements.txt (line 1))\n",
      "  Obtaining dependency information for cycler>=0.10 from https://files.pythonhosted.org/packages/e7/05/c19819d5e3d95294a6f5947fb9b9629efb316b96de511b418c53d245aae6/cycler-0.12.1-py3-none-any.whl.metadata\n",
      "  Downloading cycler-0.12.1-py3-none-any.whl.metadata (3.8 kB)\n",
      "Collecting fonttools>=4.22.0 (from matplotlib<4->mlflow==2.8.1->-r /azureml-environment-setup/condaenv.69h9jkqj.requirements.txt (line 1))\n",
      "  Obtaining dependency information for fonttools>=4.22.0 from https://files.pythonhosted.org/packages/ad/94/6cc0d252b4e8e6c61c971a8c50e38229c34a61147a059aafd308d1587b9f/fonttools-4.46.0-cp39-cp39-manylinux_2_17_x86_64.manylinux2014_x86_64.whl.metadata\n",
      "  Downloading fonttools-4.46.0-cp39-cp39-manylinux_2_17_x86_64.manylinux2014_x86_64.whl.metadata (156 kB)\n",
      "     ━━━━━━━━━━━━━━━━━━━━━━━━━━━━━━━━━━━━━━ 156.2/156.2 kB 36.2 MB/s eta 0:00:00\n",
      "Collecting kiwisolver>=1.3.1 (from matplotlib<4->mlflow==2.8.1->-r /azureml-environment-setup/condaenv.69h9jkqj.requirements.txt (line 1))\n",
      "  Obtaining dependency information for kiwisolver>=1.3.1 from https://files.pythonhosted.org/packages/c0/a8/841594f11d0b88d8aeb26991bc4dac38baa909dc58d0c4262a4f7893bcbf/kiwisolver-1.4.5-cp39-cp39-manylinux_2_12_x86_64.manylinux2010_x86_64.whl.metadata\n",
      "  Downloading kiwisolver-1.4.5-cp39-cp39-manylinux_2_12_x86_64.manylinux2010_x86_64.whl.metadata (6.4 kB)\n",
      "Collecting pillow>=8 (from matplotlib<4->mlflow==2.8.1->-r /azureml-environment-setup/condaenv.69h9jkqj.requirements.txt (line 1))\n",
      "  Obtaining dependency information for pillow>=8 from https://files.pythonhosted.org/packages/5c/dc/acccca38a87272cb2eed372f112595439418dfb6119770b04dc06d3b78bd/Pillow-10.1.0-cp39-cp39-manylinux_2_28_x86_64.whl.metadata\n",
      "  Downloading Pillow-10.1.0-cp39-cp39-manylinux_2_28_x86_64.whl.metadata (9.5 kB)\n",
      "Collecting pyparsing>=2.3.1 (from matplotlib<4->mlflow==2.8.1->-r /azureml-environment-setup/condaenv.69h9jkqj.requirements.txt (line 1))\n",
      "  Obtaining dependency information for pyparsing>=2.3.1 from https://files.pythonhosted.org/packages/39/92/8486ede85fcc088f1b3dba4ce92dd29d126fd96b0008ea213167940a2475/pyparsing-3.1.1-py3-none-any.whl.metadata\n",
      "  Downloading pyparsing-3.1.1-py3-none-any.whl.metadata (5.1 kB)\n",
      "Collecting python-dateutil>=2.7 (from matplotlib<4->mlflow==2.8.1->-r /azureml-environment-setup/condaenv.69h9jkqj.requirements.txt (line 1))\n",
      "  Downloading python_dateutil-2.8.2-py2.py3-none-any.whl (247 kB)\n",
      "     ━━━━━━━━━━━━━━━━━━━━━━━━━━━━━━━━━━━━━━ 247.7/247.7 kB 53.1 MB/s eta 0:00:00\n",
      "Collecting importlib-resources>=3.2.0 (from matplotlib<4->mlflow==2.8.1->-r /azureml-environment-setup/condaenv.69h9jkqj.requirements.txt (line 1))\n",
      "  Obtaining dependency information for importlib-resources>=3.2.0 from https://files.pythonhosted.org/packages/93/e8/facde510585869b5ec694e8e0363ffe4eba067cb357a8398a55f6a1f8023/importlib_resources-6.1.1-py3-none-any.whl.metadata\n",
      "  Downloading importlib_resources-6.1.1-py3-none-any.whl.metadata (4.1 kB)\n",
      "INFO: pip is looking at multiple versions of pandas to determine which version is compatible with other requirements. This could take a while.\n",
      "Collecting pandas<3 (from mlflow==2.8.1->-r /azureml-environment-setup/condaenv.69h9jkqj.requirements.txt (line 1))\n",
      "  Obtaining dependency information for pandas<3 from https://files.pythonhosted.org/packages/e0/4a/3356fb787b67d2adebc91a6a8b134826248790f0cf947fe2e2da20babe86/pandas-2.1.2-cp39-cp39-manylinux_2_17_x86_64.manylinux2014_x86_64.whl.metadata\n",
      "  Downloading pandas-2.1.2-cp39-cp39-manylinux_2_17_x86_64.manylinux2014_x86_64.whl.metadata (18 kB)\n",
      "  Obtaining dependency information for pandas<3 from https://files.pythonhosted.org/packages/bc/7e/a9e11bd272e3135108892b6230a115568f477864276181eada3a35d03237/pandas-2.1.1-cp39-cp39-manylinux_2_17_x86_64.manylinux2014_x86_64.whl.metadata\n",
      "  Downloading pandas-2.1.1-cp39-cp39-manylinux_2_17_x86_64.manylinux2014_x86_64.whl.metadata (18 kB)\n",
      "  Obtaining dependency information for pandas<3 from https://files.pythonhosted.org/packages/83/f0/2765daac3c58165460b127df5c0ef7b3a039f3bfe7ea7a51f3d20b01371b/pandas-2.1.0-cp39-cp39-manylinux_2_17_x86_64.manylinux2014_x86_64.whl.metadata\n",
      "  Downloading pandas-2.1.0-cp39-cp39-manylinux_2_17_x86_64.manylinux2014_x86_64.whl.metadata (18 kB)\n",
      "  Obtaining dependency information for pandas<3 from https://files.pythonhosted.org/packages/9e/0d/91a9fd2c202f2b1d97a38ab591890f86480ecbb596cbc56d035f6f23fdcc/pandas-2.0.3-cp39-cp39-manylinux_2_17_x86_64.manylinux2014_x86_64.whl.metadata\n",
      "  Downloading pandas-2.0.3-cp39-cp39-manylinux_2_17_x86_64.manylinux2014_x86_64.whl.metadata (18 kB)\n",
      "Collecting tzdata>=2022.1 (from pandas<3->mlflow==2.8.1->-r /azureml-environment-setup/condaenv.69h9jkqj.requirements.txt (line 1))\n",
      "  Downloading tzdata-2023.3-py2.py3-none-any.whl (341 kB)\n",
      "     ━━━━━━━━━━━━━━━━━━━━━━━━━━━━━━━━━━━━━━ 341.8/341.8 kB 65.3 MB/s eta 0:00:00\n",
      "Collecting charset-normalizer<4,>=2 (from requests<3,>=2.17.3->mlflow==2.8.1->-r /azureml-environment-setup/condaenv.69h9jkqj.requirements.txt (line 1))\n",
      "  Obtaining dependency information for charset-normalizer<4,>=2 from https://files.pythonhosted.org/packages/98/69/5d8751b4b670d623aa7a47bef061d69c279e9f922f6705147983aa76c3ce/charset_normalizer-3.3.2-cp39-cp39-manylinux_2_17_x86_64.manylinux2014_x86_64.whl.metadata\n",
      "  Downloading charset_normalizer-3.3.2-cp39-cp39-manylinux_2_17_x86_64.manylinux2014_x86_64.whl.metadata (33 kB)\n",
      "Collecting idna<4,>=2.5 (from requests<3,>=2.17.3->mlflow==2.8.1->-r /azureml-environment-setup/condaenv.69h9jkqj.requirements.txt (line 1))\n",
      "  Obtaining dependency information for idna<4,>=2.5 from https://files.pythonhosted.org/packages/c2/e7/a82b05cf63a603df6e68d59ae6a68bf5064484a0718ea5033660af4b54a9/idna-3.6-py3-none-any.whl.metadata\n",
      "  Downloading idna-3.6-py3-none-any.whl.metadata (9.9 kB)\n",
      "Collecting certifi>=2017.4.17 (from requests<3,>=2.17.3->mlflow==2.8.1->-r /azureml-environment-setup/condaenv.69h9jkqj.requirements.txt (line 1))\n",
      "  Obtaining dependency information for certifi>=2017.4.17 from https://files.pythonhosted.org/packages/64/62/428ef076be88fa93716b576e4a01f919d25968913e817077a386fcbe4f42/certifi-2023.11.17-py3-none-any.whl.metadata\n",
      "  Downloading certifi-2023.11.17-py3-none-any.whl.metadata (2.2 kB)\n",
      "Collecting greenlet!=0.4.17 (from sqlalchemy<3,>=1.4.0->mlflow==2.8.1->-r /azureml-environment-setup/condaenv.69h9jkqj.requirements.txt (line 1))\n",
      "  Obtaining dependency information for greenlet!=0.4.17 from https://files.pythonhosted.org/packages/19/74/f853d9ba23292692c5c2c9ae998381d9096ca3749a55f6035b6746bb919b/greenlet-3.0.1-cp39-cp39-manylinux_2_24_x86_64.manylinux_2_28_x86_64.whl.metadata\n",
      "  Downloading greenlet-3.0.1-cp39-cp39-manylinux_2_24_x86_64.manylinux_2_28_x86_64.whl.metadata (3.7 kB)\n",
      "Collecting smmap<6,>=3.0.1 (from gitdb<5,>=4.0.1->gitpython<4,>=2.1.0->mlflow==2.8.1->-r /azureml-environment-setup/condaenv.69h9jkqj.requirements.txt (line 1))\n",
      "  Obtaining dependency information for smmap<6,>=3.0.1 from https://files.pythonhosted.org/packages/a7/a5/10f97f73544edcdef54409f1d839f6049a0d79df68adbc1ceb24d1aaca42/smmap-5.0.1-py3-none-any.whl.metadata\n",
      "  Downloading smmap-5.0.1-py3-none-any.whl.metadata (4.3 kB)\n",
      "Downloading mlflow-2.8.1-py3-none-any.whl (19.0 MB)\n",
      "   ━━━━━━━━━━━━━━━━━━━━━━━━━━━━━━━━━━━━━━━━ 19.0/19.0 MB 122.5 MB/s eta 0:00:00\n",
      "Downloading scikit_learn-1.3.2-cp39-cp39-manylinux_2_17_x86_64.manylinux2014_x86_64.whl (10.9 MB)\n",
      "   ━━━━━━━━━━━━━━━━━━━━━━━━━━━━━━━━━━━━━━━━ 10.9/10.9 MB 145.5 MB/s eta 0:00:00\n",
      "Downloading packaging-23.2-py3-none-any.whl (53 kB)\n",
      "   ━━━━━━━━━━━━━━━━━━━━━━━━━━━━━━━━━━━━━━━━ 53.0/53.0 kB 13.6 MB/s eta 0:00:00\n",
      "Downloading alembic-1.13.0-py3-none-any.whl (230 kB)\n",
      "   ━━━━━━━━━━━━━━━━━━━━━━━━━━━━━━━━━━━━━━━━ 230.6/230.6 kB 42.9 MB/s eta 0:00:00\n",
      "Downloading click-8.1.7-py3-none-any.whl (97 kB)\n",
      "   ━━━━━━━━━━━━━━━━━━━━━━━━━━━━━━━━━━━━━━━━ 97.9/97.9 kB 21.2 MB/s eta 0:00:00\n",
      "Downloading databricks_cli-0.18.0-py2.py3-none-any.whl (150 kB)\n",
      "   ━━━━━━━━━━━━━━━━━━━━━━━━━━━━━━━━━━━━━━━━ 150.3/150.3 kB 35.1 MB/s eta 0:00:00\n",
      "Downloading docker-6.1.3-py3-none-any.whl (148 kB)\n",
      "   ━━━━━━━━━━━━━━━━━━━━━━━━━━━━━━━━━━━━━━━━ 148.1/148.1 kB 32.0 MB/s eta 0:00:00\n",
      "Downloading flask-3.0.0-py3-none-any.whl (99 kB)\n",
      "   ━━━━━━━━━━━━━━━━━━━━━━━━━━━━━━━━━━━━━━━━ 99.7/99.7 kB 22.7 MB/s eta 0:00:00\n",
      "Downloading GitPython-3.1.40-py3-none-any.whl (190 kB)\n",
      "   ━━━━━━━━━━━━━━━━━━━━━━━━━━━━━━━━━━━━━━━━ 190.6/190.6 kB 44.9 MB/s eta 0:00:00\n",
      "Downloading gunicorn-21.2.0-py3-none-any.whl (80 kB)\n",
      "   ━━━━━━━━━━━━━━━━━━━━━━━━━━━━━━━━━━━━━━━━ 80.2/80.2 kB 8.7 MB/s eta 0:00:00\n",
      "Downloading importlib_metadata-6.9.0-py3-none-any.whl (22 kB)\n",
      "Downloading joblib-1.3.2-py3-none-any.whl (302 kB)\n",
      "   ━━━━━━━━━━━━━━━━━━━━━━━━━━━━━━━━━━━━━━━━ 302.2/302.2 kB 64.5 MB/s eta 0:00:00\n",
      "Downloading Markdown-3.5.1-py3-none-any.whl (102 kB)\n",
      "   ━━━━━━━━━━━━━━━━━━━━━━━━━━━━━━━━━━━━━━━━ 102.2/102.2 kB 27.4 MB/s eta 0:00:00\n",
      "Downloading matplotlib-3.8.2-cp39-cp39-manylinux_2_17_x86_64.manylinux2014_x86_64.whl (11.6 MB)\n",
      "   ━━━━━━━━━━━━━━━━━━━━━━━━━━━━━━━━━━━━━━━━ 11.6/11.6 MB 147.0 MB/s eta 0:00:00\n",
      "Downloading pandas-2.0.3-cp39-cp39-manylinux_2_17_x86_64.manylinux2014_x86_64.whl (12.4 MB)\n",
      "   ━━━━━━━━━━━━━━━━━━━━━━━━━━━━━━━━━━━━━━━━ 12.4/12.4 MB 142.6 MB/s eta 0:00:00\n",
      "Downloading protobuf-4.25.1-cp37-abi3-manylinux2014_x86_64.whl (294 kB)\n",
      "   ━━━━━━━━━━━━━━━━━━━━━━━━━━━━━━━━━━━━━━━━ 294.6/294.6 kB 50.8 MB/s eta 0:00:00\n",
      "Downloading pyarrow-14.0.1-cp39-cp39-manylinux_2_28_x86_64.whl (38.0 MB)\n",
      "   ━━━━━━━━━━━━━━━━━━━━━━━━━━━━━━━━━━━━━━━━ 38.0/38.0 MB 48.8 MB/s eta 0:00:00\n",
      "Downloading pytz-2023.3.post1-py2.py3-none-any.whl (502 kB)\n",
      "   ━━━━━━━━━━━━━━━━━━━━━━━━━━━━━━━━━━━━━━━━ 502.5/502.5 kB 33.4 MB/s eta 0:00:00\n",
      "Downloading requests-2.31.0-py3-none-any.whl (62 kB)\n",
      "   ━━━━━━━━━━━━━━━━━━━━━━━━━━━━━━━━━━━━━━━━ 62.6/62.6 kB 18.4 MB/s eta 0:00:00\n",
      "Downloading SQLAlchemy-2.0.23-cp39-cp39-manylinux_2_17_x86_64.manylinux2014_x86_64.whl (3.1 MB)\n",
      "   ━━━━━━━━━━━━━━━━━━━━━━━━━━━━━━━━━━━━━━━━ 3.1/3.1 MB 144.2 MB/s eta 0:00:00\n",
      "Downloading threadpoolctl-3.2.0-py3-none-any.whl (15 kB)\n",
      "Downloading blinker-1.7.0-py3-none-any.whl (13 kB)\n",
      "Downloading certifi-2023.11.17-py3-none-any.whl (162 kB)\n",
      "   ━━━━━━━━━━━━━━━━━━━━━━━━━━━━━━━━━━━━━━━━ 162.5/162.5 kB 49.4 MB/s eta 0:00:00\n",
      "Downloading charset_normalizer-3.3.2-cp39-cp39-manylinux_2_17_x86_64.manylinux2014_x86_64.whl (142 kB)\n",
      "   ━━━━━━━━━━━━━━━━━━━━━━━━━━━━━━━━━━━━━━━━ 142.3/142.3 kB 40.3 MB/s eta 0:00:00\n",
      "Downloading contourpy-1.2.0-cp39-cp39-manylinux_2_17_x86_64.manylinux2014_x86_64.whl (310 kB)\n",
      "   ━━━━━━━━━━━━━━━━━━━━━━━━━━━━━━━━━━━━━━━━ 311.0/311.0 kB 64.6 MB/s eta 0:00:00\n",
      "Downloading cycler-0.12.1-py3-none-any.whl (8.3 kB)\n",
      "Downloading fonttools-4.46.0-cp39-cp39-manylinux_2_17_x86_64.manylinux2014_x86_64.whl (4.6 MB)\n",
      "   ━━━━━━━━━━━━━━━━━━━━━━━━━━━━━━━━━━━━━━━━ 4.6/4.6 MB 146.5 MB/s eta 0:00:00\n",
      "Downloading gitdb-4.0.11-py3-none-any.whl (62 kB)\n",
      "   ━━━━━━━━━━━━━━━━━━━━━━━━━━━━━━━━━━━━━━━━ 62.7/62.7 kB 9.9 MB/s eta 0:00:00\n",
      "Downloading greenlet-3.0.1-cp39-cp39-manylinux_2_24_x86_64.manylinux_2_28_x86_64.whl (610 kB)\n",
      "   ━━━━━━━━━━━━━━━━━━━━━━━━━━━━━━━━━━━━━━━━ 610.6/610.6 kB 85.4 MB/s eta 0:00:00\n",
      "Downloading idna-3.6-py3-none-any.whl (61 kB)\n",
      "   ━━━━━━━━━━━━━━━━━━━━━━━━━━━━━━━━━━━━━━━━ 61.6/61.6 kB 7.8 MB/s eta 0:00:00\n",
      "Downloading importlib_resources-6.1.1-py3-none-any.whl (33 kB)\n",
      "Downloading kiwisolver-1.4.5-cp39-cp39-manylinux_2_12_x86_64.manylinux2010_x86_64.whl (1.6 MB)\n",
      "   ━━━━━━━━━━━━━━━━━━━━━━━━━━━━━━━━━━━━━━━━ 1.6/1.6 MB 46.1 MB/s eta 0:00:00\n",
      "Downloading MarkupSafe-2.1.3-cp39-cp39-manylinux_2_17_x86_64.manylinux2014_x86_64.whl (25 kB)\n",
      "Downloading Pillow-10.1.0-cp39-cp39-manylinux_2_28_x86_64.whl (3.6 MB)\n",
      "   ━━━━━━━━━━━━━━━━━━━━━━━━━━━━━━━━━━━━━━━━ 3.6/3.6 MB 110.2 MB/s eta 0:00:00\n",
      "Downloading PyJWT-2.8.0-py3-none-any.whl (22 kB)\n",
      "Downloading pyparsing-3.1.1-py3-none-any.whl (103 kB)\n",
      "   ━━━━━━━━━━━━━━━━━━━━━━━━━━━━━━━━━━━━━━━━ 103.1/103.1 kB 25.5 MB/s eta 0:00:00\n",
      "Downloading typing_extensions-4.8.0-py3-none-any.whl (31 kB)\n",
      "Downloading urllib3-2.1.0-py3-none-any.whl (104 kB)\n",
      "   ━━━━━━━━━━━━━━━━━━━━━━━━━━━━━━━━━━━━━━━━ 104.6/104.6 kB 29.1 MB/s eta 0:00:00\n",
      "Downloading websocket_client-1.6.4-py3-none-any.whl (57 kB)\n",
      "   ━━━━━━━━━━━━━━━━━━━━━━━━━━━━━━━━━━━━━━━━ 57.3/57.3 kB 14.4 MB/s eta 0:00:00\n",
      "Downloading werkzeug-3.0.1-py3-none-any.whl (226 kB)\n",
      "   ━━━━━━━━━━━━━━━━━━━━━━━━━━━━━━━━━━━━━━━━ 226.7/226.7 kB 53.7 MB/s eta 0:00:00\n",
      "Downloading zipp-3.17.0-py3-none-any.whl (7.4 kB)\n",
      "Downloading Mako-1.3.0-py3-none-any.whl (78 kB)\n",
      "   ━━━━━━━━━━━━━━━━━━━━━━━━━━━━━━━━━━━━━━━━ 78.6/78.6 kB 16.8 MB/s eta 0:00:00\n",
      "Downloading smmap-5.0.1-py3-none-any.whl (24 kB)\n",
      "Installing collected packages: pytz, pathlib, zipp, websocket-client, urllib3, tzdata, typing-extensions, threadpoolctl, tabulate, sqlparse, smmap, six, pyyaml, pyparsing, pyjwt, psutil, protobuf, pillow, packaging, oauthlib, numpy, MarkupSafe, lz4, kiwisolver, joblib, itsdangerous, idna, greenlet, fonttools, entrypoints, cycler, cloudpickle, click, charset-normalizer, certifi, blinker, Werkzeug, sqlalchemy, scipy, requests, querystring-parser, python-dateutil, pyarrow, Mako, Jinja2, importlib-resources, importlib-metadata, gunicorn, gitdb, contourpy, scikit-learn, pandas, matplotlib, markdown, gitpython, Flask, docker, databricks-cli, alembic, mlflow\n",
      "Successfully installed Flask-3.0.0 Jinja2-3.1.2 Mako-1.3.0 MarkupSafe-2.1.3 Werkzeug-3.0.1 alembic-1.13.0 blinker-1.7.0 certifi-2023.11.17 charset-normalizer-3.3.2 click-8.1.7 cloudpickle-2.0.0 contourpy-1.2.0 cycler-0.12.1 databricks-cli-0.18.0 docker-6.1.3 entrypoints-0.4 fonttools-4.46.0 gitdb-4.0.11 gitpython-3.1.40 greenlet-3.0.1 gunicorn-21.2.0 idna-3.6 importlib-metadata-6.9.0 importlib-resources-6.1.1 itsdangerous-2.1.2 joblib-1.3.2 kiwisolver-1.4.5 lz4-3.1.3 markdown-3.5.1 matplotlib-3.8.2 mlflow-2.8.1 numpy-1.21.0 oauthlib-3.2.2 packaging-23.2 pandas-2.0.3 pathlib-1.0.1 pillow-10.1.0 protobuf-4.25.1 psutil-5.9.0 pyarrow-14.0.1 pyjwt-2.8.0 pyparsing-3.1.1 python-dateutil-2.8.2 pytz-2023.3.post1 pyyaml-6.0 querystring-parser-1.2.4 requests-2.31.0 scikit-learn-1.3.2 scipy-1.9.1 six-1.16.0 smmap-5.0.1 sqlalchemy-2.0.23 sqlparse-0.4.4 tabulate-0.9.0 threadpoolctl-3.2.0 typing-extensions-4.8.0 tzdata-2023.3 urllib3-2.1.0 websocket-client-1.6.4 zipp-3.17.0\n",
      "\n",
      "done\n",
      "#\n",
      "# To activate this environment, use\n",
      "#\n",
      "#     $ conda activate /azureml-envs/azureml_d6018e400accfe4dea138b181d8a1018\n",
      "#\n",
      "# To deactivate an active environment, use\n",
      "#\n",
      "#     $ conda deactivate\n",
      "\n",
      "\u001b[91m\n",
      "\n",
      "==> WARNING: A newer version of conda exists. <==\n",
      "  current version: 23.9.0\n",
      "  latest version: 23.10.0\n",
      "\n",
      "Please update conda by running\n",
      "\n",
      "    $ conda update -n base -c conda-forge conda\n",
      "\n",
      "Or to minimize the number of packages updated during conda update use\n",
      "\n",
      "     conda install conda=23.10.0\n",
      "\n",
      "\n",
      "\u001b[0m\n"
     ]
    },
    {
     "name": "stdout",
     "output_type": "stream",
     "text": [
      "Removing intermediate container 232be339a22a\n",
      " ---> c5a20bc9c99e\n",
      "Step 9/21 : ENV PATH /azureml-envs/azureml_d6018e400accfe4dea138b181d8a1018/bin:$PATH\n",
      " ---> Running in 92d1289aa2fa\n",
      "Removing intermediate container 92d1289aa2fa\n",
      " ---> 60a30a65c4b7\n",
      "Step 10/21 : COPY azureml-environment-setup/send_conda_dependencies.py azureml-environment-setup/send_conda_dependencies.py\n",
      " ---> 0ea1395bcb97\n",
      "Step 11/21 : RUN echo \"Copying environment context\"\n",
      " ---> Running in 71607d606748\n",
      "Copying environment context\n",
      "Removing intermediate container 71607d606748\n",
      " ---> 7a5fd0c63c74\n",
      "Step 12/21 : COPY azureml-environment-setup/environment_context.json azureml-environment-setup/environment_context.json\n",
      " ---> 5ec3b1acda98\n",
      "Step 13/21 : RUN python /azureml-environment-setup/send_conda_dependencies.py -p /azureml-envs/azureml_d6018e400accfe4dea138b181d8a1018\n",
      " ---> Running in 996577eefb36\n",
      "Report materialized dependencies for the environment\n",
      "Reading environment context\n",
      "Exporting conda environment\n",
      "Sending request with materialized conda environment details\n",
      "Successfully sent materialized environment details\n",
      "Removing intermediate container 996577eefb36\n",
      " ---> de50e2cfb0bd\n",
      "Step 14/21 : ENV AZUREML_CONDA_ENVIRONMENT_PATH /azureml-envs/azureml_d6018e400accfe4dea138b181d8a1018\n",
      " ---> Running in e869e479f089\n",
      "Removing intermediate container e869e479f089\n",
      " ---> e406a34324d6\n",
      "Step 15/21 : ENV LD_LIBRARY_PATH /azureml-envs/azureml_d6018e400accfe4dea138b181d8a1018/lib:$LD_LIBRARY_PATH\n",
      " ---> Running in 79c994b19625\n",
      "Removing intermediate container 79c994b19625\n",
      " ---> 7ed05f46f9b9\n",
      "Step 16/21 : ENV CONDA_DEFAULT_ENV=azureml_d6018e400accfe4dea138b181d8a1018 CONDA_PREFIX=/azureml-envs/azureml_d6018e400accfe4dea138b181d8a1018\n",
      " ---> Running in 7dd21d959656\n",
      "Removing intermediate container 7dd21d959656\n",
      " ---> 1f70a0fe7936\n",
      "Step 17/21 : COPY azureml-environment-setup/spark_cache.py azureml-environment-setup/log4j.properties /azureml-environment-setup/\n",
      " ---> 7ef126e1c04b\n",
      "Step 18/21 : RUN if [ $SPARK_HOME ]; then /bin/bash -c '$SPARK_HOME/bin/spark-submit  /azureml-environment-setup/spark_cache.py'; fi\n",
      " ---> Running in 1ea8342244ac\n",
      "Removing intermediate container 1ea8342244ac\n",
      " ---> 070b64e90dfc\n",
      "Step 19/21 : RUN rm -rf azureml-environment-setup\n",
      " ---> Running in da675491ccf0\n",
      "Removing intermediate container da675491ccf0\n",
      " ---> 00cfa0188fcd\n",
      "Step 20/21 : ENV AZUREML_ENVIRONMENT_IMAGE True\n",
      " ---> Running in d80a146a2882\n",
      "Removing intermediate container d80a146a2882\n",
      " ---> 790698b5278d\n",
      "Step 21/21 : CMD [\"bash\"]\n",
      " ---> Running in f7b218deb404\n",
      "Removing intermediate container f7b218deb404\n",
      " ---> ed359519b4d1\n",
      "Successfully built ed359519b4d1\n",
      "Successfully tagged 3252fc443209481dbf475f2f1c75eb85.azurecr.io/azureml/azureml_c4626ca88f2a0a918c1f760c71f602c2:latest\n",
      "Successfully tagged 3252fc443209481dbf475f2f1c75eb85.azurecr.io/azureml/azureml_c4626ca88f2a0a918c1f760c71f602c2:1\n",
      "2023/12/02 17:35:22 Successfully executed container: acb_step_0\n",
      "2023/12/02 17:35:22 Executing step ID: acb_step_1. Timeout(sec): 5400, Working directory: '', Network: 'acb_default_network'\n",
      "2023/12/02 17:35:22 Pushing image: 3252fc443209481dbf475f2f1c75eb85.azurecr.io/azureml/azureml_c4626ca88f2a0a918c1f760c71f602c2:1, attempt 1\n",
      "The push refers to repository [3252fc443209481dbf475f2f1c75eb85.azurecr.io/azureml/azureml_c4626ca88f2a0a918c1f760c71f602c2]\n",
      "68b21137a5f6: Preparing\n",
      "e663d0e2dddb: Preparing\n",
      "cd35d06d24af: Preparing\n",
      "76ee6c205f2f: Preparing\n",
      "8851c82924a1: Preparing\n",
      "ff678af6c5ee: Preparing\n",
      "0d2e601c9252: Preparing\n",
      "b6a06e9baad6: Preparing\n",
      "9a81be56619d: Preparing\n",
      "1d2fe57ea022: Preparing\n",
      "b4596fa85a0a: Preparing\n",
      "28970bb77a17: Preparing\n",
      "dc4c243bb10c: Preparing\n",
      "ae75ff46b96d: Preparing\n",
      "a8abba59b03a: Preparing\n",
      "5388492df03e: Preparing\n",
      "38f020f5d6e5: Preparing\n",
      "f8413b73d11d: Preparing\n",
      "6c3e7df31590: Preparing\n",
      "b6a06e9baad6: Waiting\n",
      "9a81be56619d: Waiting\n",
      "1d2fe57ea022: Waiting\n",
      "b4596fa85a0a: Waiting\n",
      "28970bb77a17: Waiting\n",
      "dc4c243bb10c: Waiting\n",
      "ae75ff46b96d: Waiting\n",
      "a8abba59b03a: Waiting\n",
      "5388492df03e: Waiting\n",
      "38f020f5d6e5: Waiting\n",
      "f8413b73d11d: Waiting\n",
      "6c3e7df31590: Waiting\n",
      "ff678af6c5ee: Waiting\n",
      "0d2e601c9252: Waiting\n",
      "68b21137a5f6: Pushed\n",
      "76ee6c205f2f: Pushed\n",
      "e663d0e2dddb: Pushed\n",
      "8851c82924a1: Pushed\n",
      "0d2e601c9252: Pushed\n",
      "cd35d06d24af: Pushed\n",
      "9a81be56619d: Pushed\n",
      "b6a06e9baad6: Pushed\n",
      "1d2fe57ea022: Pushed\n",
      "b4596fa85a0a: Pushed\n",
      "a8abba59b03a: Pushed\n",
      "28970bb77a17: Pushed\n",
      "dc4c243bb10c: Pushed\n",
      "5388492df03e: Pushed\n",
      "38f020f5d6e5: Pushed\n",
      "ae75ff46b96d: Pushed\n",
      "6c3e7df31590: Pushed\n",
      "f8413b73d11d: Pushed\n",
      "ff678af6c5ee: Pushed\n",
      "1: digest: sha256:4651f26b36b9170a3ed28b27d63124f241e1e45d45a5ddce3c8ca7b08e0d9e55 size: 4305\n",
      "2023/12/02 17:36:21 Successfully pushed image: 3252fc443209481dbf475f2f1c75eb85.azurecr.io/azureml/azureml_c4626ca88f2a0a918c1f760c71f602c2:1\n",
      "2023/12/02 17:36:21 Executing step ID: acb_step_2. Timeout(sec): 5400, Working directory: '', Network: 'acb_default_network'\n",
      "2023/12/02 17:36:21 Pushing image: 3252fc443209481dbf475f2f1c75eb85.azurecr.io/azureml/azureml_c4626ca88f2a0a918c1f760c71f602c2:latest, attempt 1\n",
      "The push refers to repository [3252fc443209481dbf475f2f1c75eb85.azurecr.io/azureml/azureml_c4626ca88f2a0a918c1f760c71f602c2]\n",
      "68b21137a5f6: Preparing\n",
      "e663d0e2dddb: Preparing\n",
      "cd35d06d24af: Preparing\n",
      "76ee6c205f2f: Preparing\n",
      "8851c82924a1: Preparing\n",
      "ff678af6c5ee: Preparing\n",
      "0d2e601c9252: Preparing\n",
      "b6a06e9baad6: Preparing\n",
      "9a81be56619d: Preparing\n",
      "1d2fe57ea022: Preparing\n",
      "b4596fa85a0a: Preparing\n",
      "28970bb77a17: Preparing\n",
      "dc4c243bb10c: Preparing\n",
      "ae75ff46b96d: Preparing\n",
      "a8abba59b03a: Preparing\n",
      "5388492df03e: Preparing\n",
      "38f020f5d6e5: Preparing\n",
      "f8413b73d11d: Preparing\n",
      "6c3e7df31590: Preparing\n",
      "ff678af6c5ee: Waiting\n",
      "0d2e601c9252: Waiting\n",
      "b6a06e9baad6: Waiting\n",
      "9a81be56619d: Waiting\n",
      "1d2fe57ea022: Waiting\n",
      "b4596fa85a0a: Waiting\n",
      "28970bb77a17: Waiting\n",
      "dc4c243bb10c: Waiting\n",
      "ae75ff46b96d: Waiting\n",
      "a8abba59b03a: Waiting\n",
      "5388492df03e: Waiting\n",
      "38f020f5d6e5: Waiting\n",
      "6c3e7df31590: Waiting\n",
      "f8413b73d11d: Waiting\n",
      "cd35d06d24af: Layer already exists\n",
      "8851c82924a1: Layer already exists\n",
      "e663d0e2dddb: Layer already exists\n",
      "76ee6c205f2f: Layer already exists\n",
      "68b21137a5f6: Layer already exists\n",
      "9a81be56619d: Layer already exists\n",
      "0d2e601c9252: Layer already exists\n",
      "b6a06e9baad6: Layer already exists\n",
      "1d2fe57ea022: Layer already exists\n",
      "ff678af6c5ee: Layer already exists\n",
      "b4596fa85a0a: Layer already exists\n",
      "dc4c243bb10c: Layer already exists\n",
      "28970bb77a17: Layer already exists\n",
      "ae75ff46b96d: Layer already exists\n",
      "a8abba59b03a: Layer already exists\n",
      "6c3e7df31590: Layer already exists\n",
      "5388492df03e: Layer already exists\n",
      "38f020f5d6e5: Layer already exists\n",
      "f8413b73d11d: Layer already exists\n",
      "latest: digest: sha256:4651f26b36b9170a3ed28b27d63124f241e1e45d45a5ddce3c8ca7b08e0d9e55 size: 4305\n",
      "2023/12/02 17:36:23 Successfully pushed image: 3252fc443209481dbf475f2f1c75eb85.azurecr.io/azureml/azureml_c4626ca88f2a0a918c1f760c71f602c2:latest\n",
      "2023/12/02 17:36:23 Executing step ID: acb_step_3. Timeout(sec): 5400, Working directory: '', Network: 'acb_default_network'\n",
      "2023/12/02 17:36:23 Launching container with name: acb_step_3\n",
      "Report materialized dependencies for the environment\n",
      "Reading environment context\n",
      "Exporting conda environment\n",
      "Sending request with materialized conda environment details\n",
      "Successfully sent materialized environment dependencies\n",
      "2023/12/02 17:36:25 Successfully executed container: acb_step_3\n",
      "2023/12/02 17:36:25 Step ID: acb_step_0 marked as successful (elapsed time in seconds: 200.874417)\n",
      "2023/12/02 17:36:25 Populating digests for step ID: acb_step_0...\n",
      "2023/12/02 17:36:25 Successfully populated digests for step ID: acb_step_0\n",
      "2023/12/02 17:36:25 Step ID: acb_step_1 marked as successful (elapsed time in seconds: 59.093304)\n",
      "2023/12/02 17:36:25 Step ID: acb_step_2 marked as successful (elapsed time in seconds: 1.186720)\n",
      "2023/12/02 17:36:25 Step ID: acb_step_3 marked as successful (elapsed time in seconds: 1.849959)\n",
      "2023/12/02 17:36:25 The following dependencies were found:\n",
      "2023/12/02 17:36:25 \n",
      "- image:\n",
      "    registry: 3252fc443209481dbf475f2f1c75eb85.azurecr.io\n",
      "    repository: azureml/azureml_c4626ca88f2a0a918c1f760c71f602c2\n",
      "    tag: latest\n",
      "    digest: sha256:4651f26b36b9170a3ed28b27d63124f241e1e45d45a5ddce3c8ca7b08e0d9e55\n",
      "  runtime-dependency:\n",
      "    registry: mcr.microsoft.com\n",
      "    repository: azureml/openmpi4.1.0-ubuntu20.04\n",
      "    tag: 20231030.v1\n",
      "    digest: sha256:937a0e727cfc5270649a77ddca125322748d10066b4b07ffe548881f66a68c40\n",
      "  git: {}\n",
      "- image:\n",
      "    registry: 3252fc443209481dbf475f2f1c75eb85.azurecr.io\n",
      "    repository: azureml/azureml_c4626ca88f2a0a918c1f760c71f602c2\n",
      "    tag: \"1\"\n",
      "    digest: sha256:4651f26b36b9170a3ed28b27d63124f241e1e45d45a5ddce3c8ca7b08e0d9e55\n",
      "  runtime-dependency:\n",
      "    registry: mcr.microsoft.com\n",
      "    repository: azureml/openmpi4.1.0-ubuntu20.04\n",
      "    tag: 20231030.v1\n",
      "    digest: sha256:937a0e727cfc5270649a77ddca125322748d10066b4b07ffe548881f66a68c40\n",
      "  git: {}\n",
      "\n",
      "Run ID: dd1 was successful after 4m27s\n"
     ]
    },
    {
     "name": "stdout",
     "output_type": "stream",
     "text": [
      "Package creation Succeeded\n",
      "Logging into Docker registry 3252fc443209481dbf475f2f1c75eb85.azurecr.io\n",
      "Logging into Docker registry 3252fc443209481dbf475f2f1c75eb85.azurecr.io\n",
      "Building Docker image from Dockerfile...\n",
      "Step 1/5 : FROM 3252fc443209481dbf475f2f1c75eb85.azurecr.io/azureml/azureml_c4626ca88f2a0a918c1f760c71f602c2\n",
      " ---> ed359519b4d1\n",
      "Step 2/5 : COPY azureml-app /var/azureml-app\n",
      " ---> ba5f48ea0772\n",
      "Step 3/5 : RUN mkdir -p '/var/azureml-app' && echo eyJhY2NvdW50Q29udGV4dCI6eyJzdWJzY3JpcHRpb25JZCI6IjJjMmQxY2M3LWYwZmMtNDE3NC1iNDAzLTRiZGQzNTIzODg1MCIsInJlc291cmNlR3JvdXBOYW1lIjoibGVhcm5fbWxvcHMiLCJhY2NvdW50TmFtZSI6ImV3aW5zX21sIiwid29ya3NwYWNlSWQiOiIzMjUyZmM0NC0zMjA5LTQ4MWQtYmY0Ny01ZjJmMWM3NWViODUifSwibW9kZWxzIjp7fSwibW9kZWxzSW5mbyI6e319 | base64 --decode > /var/azureml-app/model_config_map.json\n",
      " ---> Running in c86f01e1cc38\n",
      " ---> 88b670e88645\n",
      "Step 4/5 : RUN mv '/var/azureml-app/tmp22l2lmzo.py' /var/azureml-app/main.py\n",
      " ---> Running in ffbae9e3b5ab\n",
      " ---> ec346732c191\n",
      "Step 5/5 : CMD [\"runsvdir\",\"/var/runit\"]\n",
      " ---> Running in 25be42a00a2f\n",
      " ---> 1935685c4b94\n",
      "Successfully built 1935685c4b94\n",
      "Successfully tagged student-mental-prediction:latest\n",
      "Starting Docker container...\n",
      "Docker container running.\n"
     ]
    }
   ],
   "source": [
    "service = Model.deploy(\n",
    "    workspace = ws,\n",
    "    name = 'student-mental-prediction',\n",
    "    models = [model],\n",
    "    inference_config = inference_config,\n",
    "    deployment_config = deployment_config,\n",
    "    overwrite=True)"
   ]
  },
  {
   "cell_type": "code",
   "execution_count": 69,
   "id": "5394eace",
   "metadata": {},
   "outputs": [
    {
     "name": "stdout",
     "output_type": "stream",
     "text": [
      "Tips: You can try get_logs(): https://aka.ms/debugimage#dockerlog or local deployment: https://aka.ms/debugimage#debug-locally to debug if deployment takes longer than 10 minutes.\n",
      "SucceededACI service creation operation finished, operation \"Succeeded\"\n"
     ]
    }
   ],
   "source": [
    "service.wait_for_deployment(show_output=True)"
   ]
  },
  {
   "cell_type": "markdown",
   "id": "5e1ffbe6",
   "metadata": {},
   "source": [
    "Le fichier model.pkl sera téléchargé à partir d'Azure Machine Learning dans un dossier local temporaire et une image Docker avec les dépendances est créée et enregistrée dans Azure Container Registry (ACR). L'image sera téléchargée d'ACR sur la machine locale et un conteneur Docker exécutant le service Web est construit à partir de l'image localement.\n",
    "\n"
   ]
  },
  {
   "cell_type": "markdown",
   "id": "31719137",
   "metadata": {},
   "source": [
    "Pour avoir l'URI de scoring lancez la commande suivante "
   ]
  },
  {
   "cell_type": "code",
   "execution_count": 42,
   "id": "6835af5d",
   "metadata": {},
   "outputs": [
    {
     "name": "stdout",
     "output_type": "stream",
     "text": [
      "http://localhost:6789/score\n"
     ]
    }
   ],
   "source": [
    "print (service.scoring_uri)"
   ]
  },
  {
   "cell_type": "markdown",
   "id": "2f11f04c",
   "metadata": {},
   "source": [
    "## 6. Déplyons le service sur ACI"
   ]
  },
  {
   "cell_type": "code",
   "execution_count": 57,
   "id": "74887529",
   "metadata": {},
   "outputs": [],
   "source": [
    "from azureml.core import Workspace\n",
    "ws = Workspace.from_config()\n",
    "from azureml.core.model import Model\n",
    "model = Model(ws, 'student_mental_model', version=1)\n",
    "from azureml.core import Environment\n",
    "env = Environment.get(workspace = ws, name = 'student-mental-env', version = 1)"
   ]
  },
  {
   "cell_type": "code",
   "execution_count": 58,
   "id": "715bca95",
   "metadata": {},
   "outputs": [
    {
     "name": "stderr",
     "output_type": "stream",
     "text": [
      "Warning, azureml-defaults not detected in provided environment pip dependencies. The azureml-defaults package contains requirements for the inference stack to run, and should be included.\n"
     ]
    }
   ],
   "source": [
    "from azureml.core.model import InferenceConfig\n",
    "inference_config = InferenceConfig(\n",
    "    environment=env,\n",
    "    source_directory=\".\",\n",
    "    entry_script=\"./score.py\")"
   ]
  },
  {
   "cell_type": "code",
   "execution_count": 47,
   "id": "f846f2dd",
   "metadata": {},
   "outputs": [],
   "source": [
    "from azureml.core.webservice import AciWebservice\n",
    "deployment_config = AciWebservice.deploy_configuration(cpu_cores=0.1, memory_gb=0.5, auth_enabled=False)"
   ]
  },
  {
   "cell_type": "code",
   "execution_count": null,
   "id": "e89aae58",
   "metadata": {},
   "outputs": [],
   "source": [
    "service = Model.deploy(\n",
    "    workspace = ws,\n",
    "    name = 'student-mental-service',\n",
    "    models = [model],\n",
    "    inference_config = inference_config,\n",
    "    deployment_config = deployment_config,\n",
    "    overwrite=True)\n",
    "    \n",
    "service.wait_for_deployment(show_output=True)"
   ]
  },
  {
   "cell_type": "code",
   "execution_count": null,
   "id": "5a03b6d5",
   "metadata": {},
   "outputs": [],
   "source": []
  }
 ],
 "metadata": {
  "kernelspec": {
   "display_name": "Python 3 (ipykernel)",
   "language": "python",
   "name": "python3"
  },
  "language_info": {
   "codemirror_mode": {
    "name": "ipython",
    "version": 3
   },
   "file_extension": ".py",
   "mimetype": "text/x-python",
   "name": "python",
   "nbconvert_exporter": "python",
   "pygments_lexer": "ipython3",
   "version": "3.9.13"
  }
 },
 "nbformat": 4,
 "nbformat_minor": 5
}
