{
 "cells": [
  {
   "cell_type": "code",
   "execution_count": 1,
   "id": "406c1188",
   "metadata": {},
   "outputs": [],
   "source": [
    "import pandas as pd\n",
    "import numpy as np\n",
    "import mlflow\n",
    "import matplotlib.pyplot as plt\n",
    "from sklearn.model_selection import train_test_split\n",
    "from sklearn.preprocessing import StandardScaler\n",
    "from sklearn.preprocessing import LabelEncoder\n",
    "from sklearn.linear_model import LogisticRegression\n",
    "from sklearn.svm import SVC\n",
    "from sklearn.metrics import roc_auc_score, RocCurveDisplay,confusion_matrix\n",
    "from sklearn.model_selection import KFold\n",
    "import mlflow\n",
    "import mlflow.sklearn\n",
    "import matplotlib.pyplot as plt\n",
    "import seaborn as sns\n",
    "import sklearn \n",
    "from sklearn.ensemble import RandomForestClassifier\n",
    "from skl2onnx import convert_sklearn\n",
    "from skl2onnx.common.data_types import FloatTensorType"
   ]
  },
  {
   "cell_type": "code",
   "execution_count": null,
   "id": "fee59d04",
   "metadata": {
    "scrolled": true
   },
   "outputs": [],
   "source": [
    "!pip install skl2onnx"
   ]
  },
  {
   "cell_type": "code",
   "execution_count": 56,
   "id": "099cafd3",
   "metadata": {},
   "outputs": [
    {
     "data": {
      "text/html": [
       "<div>\n",
       "<style scoped>\n",
       "    .dataframe tbody tr th:only-of-type {\n",
       "        vertical-align: middle;\n",
       "    }\n",
       "\n",
       "    .dataframe tbody tr th {\n",
       "        vertical-align: top;\n",
       "    }\n",
       "\n",
       "    .dataframe thead th {\n",
       "        text-align: right;\n",
       "    }\n",
       "</style>\n",
       "<table border=\"1\" class=\"dataframe\">\n",
       "  <thead>\n",
       "    <tr style=\"text-align: right;\">\n",
       "      <th></th>\n",
       "      <th>Timestamp</th>\n",
       "      <th>Choose your gender</th>\n",
       "      <th>Age</th>\n",
       "      <th>What is your course?</th>\n",
       "      <th>Your current year of Study</th>\n",
       "      <th>What is your CGPA?</th>\n",
       "      <th>Marital status</th>\n",
       "      <th>Do you have Depression?</th>\n",
       "      <th>Do you have Anxiety?</th>\n",
       "      <th>Do you have Panic attack?</th>\n",
       "      <th>Did you seek any specialist for a treatment?</th>\n",
       "    </tr>\n",
       "  </thead>\n",
       "  <tbody>\n",
       "    <tr>\n",
       "      <th>0</th>\n",
       "      <td>8/7/2020 12:02</td>\n",
       "      <td>Female</td>\n",
       "      <td>18.0</td>\n",
       "      <td>Engineering</td>\n",
       "      <td>year 1</td>\n",
       "      <td>3.00 - 3.49</td>\n",
       "      <td>No</td>\n",
       "      <td>Yes</td>\n",
       "      <td>No</td>\n",
       "      <td>Yes</td>\n",
       "      <td>No</td>\n",
       "    </tr>\n",
       "    <tr>\n",
       "      <th>1</th>\n",
       "      <td>8/7/2020 12:04</td>\n",
       "      <td>Male</td>\n",
       "      <td>21.0</td>\n",
       "      <td>Islamic education</td>\n",
       "      <td>year 2</td>\n",
       "      <td>3.00 - 3.49</td>\n",
       "      <td>No</td>\n",
       "      <td>No</td>\n",
       "      <td>Yes</td>\n",
       "      <td>No</td>\n",
       "      <td>No</td>\n",
       "    </tr>\n",
       "    <tr>\n",
       "      <th>2</th>\n",
       "      <td>8/7/2020 12:05</td>\n",
       "      <td>Male</td>\n",
       "      <td>19.0</td>\n",
       "      <td>BIT</td>\n",
       "      <td>Year 1</td>\n",
       "      <td>3.00 - 3.49</td>\n",
       "      <td>No</td>\n",
       "      <td>Yes</td>\n",
       "      <td>Yes</td>\n",
       "      <td>Yes</td>\n",
       "      <td>No</td>\n",
       "    </tr>\n",
       "    <tr>\n",
       "      <th>3</th>\n",
       "      <td>8/7/2020 12:06</td>\n",
       "      <td>Female</td>\n",
       "      <td>22.0</td>\n",
       "      <td>Laws</td>\n",
       "      <td>year 3</td>\n",
       "      <td>3.00 - 3.49</td>\n",
       "      <td>Yes</td>\n",
       "      <td>Yes</td>\n",
       "      <td>No</td>\n",
       "      <td>No</td>\n",
       "      <td>No</td>\n",
       "    </tr>\n",
       "    <tr>\n",
       "      <th>4</th>\n",
       "      <td>8/7/2020 12:13</td>\n",
       "      <td>Male</td>\n",
       "      <td>23.0</td>\n",
       "      <td>Mathemathics</td>\n",
       "      <td>year 4</td>\n",
       "      <td>3.00 - 3.49</td>\n",
       "      <td>No</td>\n",
       "      <td>No</td>\n",
       "      <td>No</td>\n",
       "      <td>No</td>\n",
       "      <td>No</td>\n",
       "    </tr>\n",
       "  </tbody>\n",
       "</table>\n",
       "</div>"
      ],
      "text/plain": [
       "        Timestamp Choose your gender   Age What is your course?  \\\n",
       "0  8/7/2020 12:02             Female  18.0          Engineering   \n",
       "1  8/7/2020 12:04               Male  21.0    Islamic education   \n",
       "2  8/7/2020 12:05               Male  19.0                  BIT   \n",
       "3  8/7/2020 12:06             Female  22.0                 Laws   \n",
       "4  8/7/2020 12:13               Male  23.0         Mathemathics   \n",
       "\n",
       "  Your current year of Study What is your CGPA? Marital status  \\\n",
       "0                     year 1        3.00 - 3.49             No   \n",
       "1                     year 2        3.00 - 3.49             No   \n",
       "2                     Year 1        3.00 - 3.49             No   \n",
       "3                     year 3        3.00 - 3.49            Yes   \n",
       "4                     year 4        3.00 - 3.49             No   \n",
       "\n",
       "  Do you have Depression? Do you have Anxiety? Do you have Panic attack?  \\\n",
       "0                     Yes                   No                       Yes   \n",
       "1                      No                  Yes                        No   \n",
       "2                     Yes                  Yes                       Yes   \n",
       "3                     Yes                   No                        No   \n",
       "4                      No                   No                        No   \n",
       "\n",
       "  Did you seek any specialist for a treatment?  \n",
       "0                                           No  \n",
       "1                                           No  \n",
       "2                                           No  \n",
       "3                                           No  \n",
       "4                                           No  "
      ]
     },
     "execution_count": 56,
     "metadata": {},
     "output_type": "execute_result"
    }
   ],
   "source": [
    "data = pd.read_csv(\"data/Student Mental health.csv\")\n",
    "data.head()"
   ]
  },
  {
   "cell_type": "code",
   "execution_count": 9,
   "id": "477ef81c",
   "metadata": {},
   "outputs": [
    {
     "data": {
      "text/plain": [
       "array(['year 1', 'year 2', 'Year 1', 'year 3', 'year 4', 'Year 2',\n",
       "       'Year 3'], dtype=object)"
      ]
     },
     "execution_count": 9,
     "metadata": {},
     "output_type": "execute_result"
    }
   ],
   "source": [
    "data[\"Your current year of Study\"].unique()"
   ]
  },
  {
   "cell_type": "code",
   "execution_count": 4,
   "id": "bd1fac2c",
   "metadata": {},
   "outputs": [
    {
     "data": {
      "text/html": [
       "<div>\n",
       "<style scoped>\n",
       "    .dataframe tbody tr th:only-of-type {\n",
       "        vertical-align: middle;\n",
       "    }\n",
       "\n",
       "    .dataframe tbody tr th {\n",
       "        vertical-align: top;\n",
       "    }\n",
       "\n",
       "    .dataframe thead th {\n",
       "        text-align: right;\n",
       "    }\n",
       "</style>\n",
       "<table border=\"1\" class=\"dataframe\">\n",
       "  <thead>\n",
       "    <tr style=\"text-align: right;\">\n",
       "      <th></th>\n",
       "      <th>Age</th>\n",
       "    </tr>\n",
       "  </thead>\n",
       "  <tbody>\n",
       "    <tr>\n",
       "      <th>count</th>\n",
       "      <td>100.00000</td>\n",
       "    </tr>\n",
       "    <tr>\n",
       "      <th>mean</th>\n",
       "      <td>20.53000</td>\n",
       "    </tr>\n",
       "    <tr>\n",
       "      <th>std</th>\n",
       "      <td>2.49628</td>\n",
       "    </tr>\n",
       "    <tr>\n",
       "      <th>min</th>\n",
       "      <td>18.00000</td>\n",
       "    </tr>\n",
       "    <tr>\n",
       "      <th>25%</th>\n",
       "      <td>18.00000</td>\n",
       "    </tr>\n",
       "    <tr>\n",
       "      <th>50%</th>\n",
       "      <td>19.00000</td>\n",
       "    </tr>\n",
       "    <tr>\n",
       "      <th>75%</th>\n",
       "      <td>23.00000</td>\n",
       "    </tr>\n",
       "    <tr>\n",
       "      <th>max</th>\n",
       "      <td>24.00000</td>\n",
       "    </tr>\n",
       "  </tbody>\n",
       "</table>\n",
       "</div>"
      ],
      "text/plain": [
       "             Age\n",
       "count  100.00000\n",
       "mean    20.53000\n",
       "std      2.49628\n",
       "min     18.00000\n",
       "25%     18.00000\n",
       "50%     19.00000\n",
       "75%     23.00000\n",
       "max     24.00000"
      ]
     },
     "execution_count": 4,
     "metadata": {},
     "output_type": "execute_result"
    }
   ],
   "source": [
    "data.describe()"
   ]
  },
  {
   "cell_type": "code",
   "execution_count": 6,
   "id": "c0091c86",
   "metadata": {},
   "outputs": [
    {
     "data": {
      "text/plain": [
       "(101, 11)"
      ]
     },
     "execution_count": 6,
     "metadata": {},
     "output_type": "execute_result"
    }
   ],
   "source": [
    "data.shape"
   ]
  },
  {
   "cell_type": "code",
   "execution_count": 7,
   "id": "19514e1a",
   "metadata": {},
   "outputs": [
    {
     "data": {
      "text/plain": [
       "Timestamp                                        object\n",
       "Choose your gender                               object\n",
       "Age                                             float64\n",
       "What is your course?                             object\n",
       "Your current year of Study                       object\n",
       "What is your CGPA?                               object\n",
       "Marital status                                   object\n",
       "Do you have Depression?                          object\n",
       "Do you have Anxiety?                             object\n",
       "Do you have Panic attack?                        object\n",
       "Did you seek any specialist for a treatment?     object\n",
       "dtype: object"
      ]
     },
     "execution_count": 7,
     "metadata": {},
     "output_type": "execute_result"
    }
   ],
   "source": [
    "data.dtypes"
   ]
  },
  {
   "cell_type": "code",
   "execution_count": 8,
   "id": "4297b80a",
   "metadata": {},
   "outputs": [
    {
     "data": {
      "text/plain": [
       "True"
      ]
     },
     "execution_count": 8,
     "metadata": {},
     "output_type": "execute_result"
    }
   ],
   "source": [
    "data.isnull().values.any()"
   ]
  },
  {
   "cell_type": "code",
   "execution_count": 9,
   "id": "16641955",
   "metadata": {},
   "outputs": [
    {
     "data": {
      "text/plain": [
       "Timestamp                                       0\n",
       "Choose your gender                              0\n",
       "Age                                             1\n",
       "What is your course?                            0\n",
       "Your current year of Study                      0\n",
       "What is your CGPA?                              0\n",
       "Marital status                                  0\n",
       "Do you have Depression?                         0\n",
       "Do you have Anxiety?                            0\n",
       "Do you have Panic attack?                       0\n",
       "Did you seek any specialist for a treatment?    0\n",
       "dtype: int64"
      ]
     },
     "execution_count": 9,
     "metadata": {},
     "output_type": "execute_result"
    }
   ],
   "source": [
    "data.isnull().sum()"
   ]
  },
  {
   "cell_type": "code",
   "execution_count": 57,
   "id": "76a3e60f",
   "metadata": {},
   "outputs": [
    {
     "data": {
      "text/plain": [
       "(100, 11)"
      ]
     },
     "execution_count": 57,
     "metadata": {},
     "output_type": "execute_result"
    }
   ],
   "source": [
    "data = data.dropna(how='any',axis=0) \n",
    "data.shape"
   ]
  },
  {
   "cell_type": "code",
   "execution_count": 25,
   "id": "c1c23c3a",
   "metadata": {
    "scrolled": true
   },
   "outputs": [
    {
     "data": {
      "image/png": "[encoded data removed]",
      "text/plain": [
       "<Figure size 1000x1000 with 1 Axes>"
      ]
     },
     "metadata": {},
     "output_type": "display_data"
    }
   ],
   "source": [
    "plt.figure(figsize=(10,10))\n",
    "plt.hist(data['Age'],color='b')\n",
    "plt.title(\"Age distribution\");"
   ]
  },
  {
   "cell_type": "code",
   "execution_count": 58,
   "id": "765bcc7e",
   "metadata": {
    "scrolled": true
   },
   "outputs": [
    {
     "data": {
      "text/html": [
       "<div>\n",
       "<style scoped>\n",
       "    .dataframe tbody tr th:only-of-type {\n",
       "        vertical-align: middle;\n",
       "    }\n",
       "\n",
       "    .dataframe tbody tr th {\n",
       "        vertical-align: top;\n",
       "    }\n",
       "\n",
       "    .dataframe thead th {\n",
       "        text-align: right;\n",
       "    }\n",
       "</style>\n",
       "<table border=\"1\" class=\"dataframe\">\n",
       "  <thead>\n",
       "    <tr style=\"text-align: right;\">\n",
       "      <th></th>\n",
       "      <th>Timestamp</th>\n",
       "      <th>Choose_your_gender</th>\n",
       "      <th>Age</th>\n",
       "      <th>What_is_your_course</th>\n",
       "      <th>Your_current_year_of_Study</th>\n",
       "      <th>What_is_your_CGPA</th>\n",
       "      <th>Marital_status</th>\n",
       "      <th>Depression</th>\n",
       "      <th>Do_you_have_Anxiety</th>\n",
       "      <th>Do_you_have_Panic_attack</th>\n",
       "      <th>Did_you_seek_any_specialist_for_a_treatment</th>\n",
       "    </tr>\n",
       "  </thead>\n",
       "  <tbody>\n",
       "    <tr>\n",
       "      <th>0</th>\n",
       "      <td>8/7/2020 12:02</td>\n",
       "      <td>Female</td>\n",
       "      <td>18.0</td>\n",
       "      <td>Engineering</td>\n",
       "      <td>year 1</td>\n",
       "      <td>3.00 - 3.49</td>\n",
       "      <td>No</td>\n",
       "      <td>Yes</td>\n",
       "      <td>No</td>\n",
       "      <td>Yes</td>\n",
       "      <td>No</td>\n",
       "    </tr>\n",
       "    <tr>\n",
       "      <th>1</th>\n",
       "      <td>8/7/2020 12:04</td>\n",
       "      <td>Male</td>\n",
       "      <td>21.0</td>\n",
       "      <td>Islamic education</td>\n",
       "      <td>year 2</td>\n",
       "      <td>3.00 - 3.49</td>\n",
       "      <td>No</td>\n",
       "      <td>No</td>\n",
       "      <td>Yes</td>\n",
       "      <td>No</td>\n",
       "      <td>No</td>\n",
       "    </tr>\n",
       "    <tr>\n",
       "      <th>2</th>\n",
       "      <td>8/7/2020 12:05</td>\n",
       "      <td>Male</td>\n",
       "      <td>19.0</td>\n",
       "      <td>BIT</td>\n",
       "      <td>Year 1</td>\n",
       "      <td>3.00 - 3.49</td>\n",
       "      <td>No</td>\n",
       "      <td>Yes</td>\n",
       "      <td>Yes</td>\n",
       "      <td>Yes</td>\n",
       "      <td>No</td>\n",
       "    </tr>\n",
       "    <tr>\n",
       "      <th>3</th>\n",
       "      <td>8/7/2020 12:06</td>\n",
       "      <td>Female</td>\n",
       "      <td>22.0</td>\n",
       "      <td>Laws</td>\n",
       "      <td>year 3</td>\n",
       "      <td>3.00 - 3.49</td>\n",
       "      <td>Yes</td>\n",
       "      <td>Yes</td>\n",
       "      <td>No</td>\n",
       "      <td>No</td>\n",
       "      <td>No</td>\n",
       "    </tr>\n",
       "    <tr>\n",
       "      <th>4</th>\n",
       "      <td>8/7/2020 12:13</td>\n",
       "      <td>Male</td>\n",
       "      <td>23.0</td>\n",
       "      <td>Mathemathics</td>\n",
       "      <td>year 4</td>\n",
       "      <td>3.00 - 3.49</td>\n",
       "      <td>No</td>\n",
       "      <td>No</td>\n",
       "      <td>No</td>\n",
       "      <td>No</td>\n",
       "      <td>No</td>\n",
       "    </tr>\n",
       "  </tbody>\n",
       "</table>\n",
       "</div>"
      ],
      "text/plain": [
       "        Timestamp Choose_your_gender   Age What_is_your_course  \\\n",
       "0  8/7/2020 12:02             Female  18.0         Engineering   \n",
       "1  8/7/2020 12:04               Male  21.0   Islamic education   \n",
       "2  8/7/2020 12:05               Male  19.0                 BIT   \n",
       "3  8/7/2020 12:06             Female  22.0                Laws   \n",
       "4  8/7/2020 12:13               Male  23.0        Mathemathics   \n",
       "\n",
       "  Your_current_year_of_Study What_is_your_CGPA Marital_status Depression  \\\n",
       "0                     year 1       3.00 - 3.49             No        Yes   \n",
       "1                     year 2       3.00 - 3.49             No         No   \n",
       "2                     Year 1       3.00 - 3.49             No        Yes   \n",
       "3                     year 3       3.00 - 3.49            Yes        Yes   \n",
       "4                     year 4       3.00 - 3.49             No         No   \n",
       "\n",
       "  Do_you_have_Anxiety Do_you_have_Panic_attack  \\\n",
       "0                  No                      Yes   \n",
       "1                 Yes                       No   \n",
       "2                 Yes                      Yes   \n",
       "3                  No                       No   \n",
       "4                  No                       No   \n",
       "\n",
       "  Did_you_seek_any_specialist_for_a_treatment  \n",
       "0                                          No  \n",
       "1                                          No  \n",
       "2                                          No  \n",
       "3                                          No  \n",
       "4                                          No  "
      ]
     },
     "execution_count": 58,
     "metadata": {},
     "output_type": "execute_result"
    }
   ],
   "source": [
    "data.rename(columns = {'Choose your gender':'Choose_your_gender',\n",
    "                     'What is your course?':'What_is_your_course', \n",
    "                     'Your current year of Study':'Your_current_year_of_Study',\n",
    "                     'What is your CGPA?':'What_is_your_CGPA', \n",
    "                     'Marital status':'Marital_status', \n",
    "                     'Do you have Depression?':'Depression', \n",
    "                     'Do you have Anxiety?':'Do_you_have_Anxiety',\n",
    "                     'Do you have Panic attack?':'Do_you_have_Panic_attack', \n",
    "                     'Did you seek any specialist for a treatment?':'Did_you_seek_any_specialist_for_a_treatment'}, inplace = True)\n",
    "data.head()"
   ]
  },
  {
   "cell_type": "code",
   "execution_count": 29,
   "id": "129a7d53",
   "metadata": {},
   "outputs": [
    {
     "data": {
      "text/plain": [
       "array(['Engineering', 'Islamic education', 'BIT', 'Laws', 'Mathemathics',\n",
       "       'Pendidikan islam', 'BCS', 'Human Resources', 'Irkhs',\n",
       "       'Psychology', 'KENMS', 'Accounting ', 'ENM', 'Marine science',\n",
       "       'KOE', 'Banking Studies', 'Business Administration', 'Law',\n",
       "       'KIRKHS', 'Usuluddin ', 'TAASL', 'Engine', 'ALA',\n",
       "       'Biomedical science', 'koe', 'Kirkhs', 'BENL', 'Benl', 'IT', 'CTS',\n",
       "       'engin', 'Econs', 'MHSC', 'Malcom', 'Kop', 'Human Sciences ',\n",
       "       'Biotechnology', 'Communication ', 'Diploma Nursing',\n",
       "       'Pendidikan Islam ', 'Radiography', 'psychology', 'Fiqh fatwa ',\n",
       "       'DIPLOMA TESL', 'Koe', 'Fiqh', 'Islamic Education', 'Nursing ',\n",
       "       'Pendidikan Islam'], dtype=object)"
      ]
     },
     "execution_count": 29,
     "metadata": {},
     "output_type": "execute_result"
    }
   ],
   "source": [
    "data[\"What_is_your_course\"].unique()"
   ]
  },
  {
   "cell_type": "code",
   "execution_count": 59,
   "id": "5d416d29",
   "metadata": {},
   "outputs": [],
   "source": [
    "data[\"Depression\"].replace({\"Yes\": 1, \"No\": 0}, inplace=True)\n",
    "data[\"Marital_status\"].replace({\"Yes\": 1, \"No\": 0}, inplace=True)\n",
    "data[\"Do_you_have_Anxiety\"].replace({\"Yes\": 1, \"No\": 0}, inplace=True)\n",
    "data[\"Do_you_have_Panic_attack\"].replace({\"Yes\": 1, \"No\": 0}, inplace=True)\n",
    "data[\"Did_you_seek_any_specialist_for_a_treatment\"].replace({\"Yes\": 1, \"No\": 0}, inplace=True)\n",
    "data[\"Choose_your_gender\"].replace({\"Male\": 1, \"Female\": 0}, inplace=True)\n",
    "data[\"What_is_your_course\"].replace({\n",
    "                                     \"Islamic education\": \"Islamic Education\",\n",
    "                                     \"Law\": \"Laws\",\n",
    "                                     \"Pendidikan islam\": \"Pendidikan Islam\",\n",
    "                                     \"Pendidikan Islam \": \"Pendidikan Islam\",\n",
    "                                     \"psychology\": \"Psychology\",\n",
    "                                     \"koe\": \"KOE\",\n",
    "                                     \"Koe\": \"KOE\",\n",
    "                                     \"Kirkhs\": \"KIRKHS\",\n",
    "                                     \"Benl\": \"BENL\",\n",
    "                                     \"Nursing \": \"Diploma Nursing\",\n",
    "                                     \"engin\": \"Engineering\",\n",
    "                                     \"Engine\": \"Engineering\"}, inplace=True)\n",
    "\n",
    "data[\"What_is_your_CGPA\"].replace({\"3.50 - 4.00 \": \"3.50 - 4.00\"}, inplace=True)\n",
    "\n",
    "data[\"Your_current_year_of_Study\"].replace({\n",
    "                                     \"Year 1\": 1,\n",
    "                                     \"year 1\": 1,\n",
    "                                     \"year 2\": 2,\n",
    "                                     \"Year 2\": 2,\n",
    "                                     \"year 3\": 3,\n",
    "                                     \"Year 3\": 3,\n",
    "                                     \"year 4\": 4,\n",
    "                                     \"Year 4\": 4,}, inplace=True)\n"
   ]
  },
  {
   "cell_type": "code",
   "execution_count": 60,
   "id": "13a23292",
   "metadata": {},
   "outputs": [
    {
     "data": {
      "text/plain": [
       "array(['3.00 - 3.49', '3.50 - 4.00', '2.50 - 2.99', '2.00 - 2.49',\n",
       "       '0 - 1.99'], dtype=object)"
      ]
     },
     "execution_count": 60,
     "metadata": {},
     "output_type": "execute_result"
    }
   ],
   "source": [
    "data[\"What_is_your_CGPA\"].unique()"
   ]
  },
  {
   "cell_type": "code",
   "execution_count": 61,
   "id": "7f65cf50",
   "metadata": {},
   "outputs": [
    {
     "data": {
      "text/html": [
       "<div>\n",
       "<style scoped>\n",
       "    .dataframe tbody tr th:only-of-type {\n",
       "        vertical-align: middle;\n",
       "    }\n",
       "\n",
       "    .dataframe tbody tr th {\n",
       "        vertical-align: top;\n",
       "    }\n",
       "\n",
       "    .dataframe thead th {\n",
       "        text-align: right;\n",
       "    }\n",
       "</style>\n",
       "<table border=\"1\" class=\"dataframe\">\n",
       "  <thead>\n",
       "    <tr style=\"text-align: right;\">\n",
       "      <th></th>\n",
       "      <th>Timestamp</th>\n",
       "      <th>Choose_your_gender</th>\n",
       "      <th>Age</th>\n",
       "      <th>What_is_your_course</th>\n",
       "      <th>Your_current_year_of_Study</th>\n",
       "      <th>What_is_your_CGPA</th>\n",
       "      <th>Marital_status</th>\n",
       "      <th>Depression</th>\n",
       "      <th>Do_you_have_Anxiety</th>\n",
       "      <th>Do_you_have_Panic_attack</th>\n",
       "      <th>Did_you_seek_any_specialist_for_a_treatment</th>\n",
       "    </tr>\n",
       "  </thead>\n",
       "  <tbody>\n",
       "    <tr>\n",
       "      <th>0</th>\n",
       "      <td>8/7/2020 12:02</td>\n",
       "      <td>0</td>\n",
       "      <td>18.0</td>\n",
       "      <td>Engineering</td>\n",
       "      <td>1</td>\n",
       "      <td>3.00 - 3.49</td>\n",
       "      <td>0</td>\n",
       "      <td>1</td>\n",
       "      <td>0</td>\n",
       "      <td>1</td>\n",
       "      <td>0</td>\n",
       "    </tr>\n",
       "    <tr>\n",
       "      <th>1</th>\n",
       "      <td>8/7/2020 12:04</td>\n",
       "      <td>1</td>\n",
       "      <td>21.0</td>\n",
       "      <td>Islamic Education</td>\n",
       "      <td>2</td>\n",
       "      <td>3.00 - 3.49</td>\n",
       "      <td>0</td>\n",
       "      <td>0</td>\n",
       "      <td>1</td>\n",
       "      <td>0</td>\n",
       "      <td>0</td>\n",
       "    </tr>\n",
       "    <tr>\n",
       "      <th>2</th>\n",
       "      <td>8/7/2020 12:05</td>\n",
       "      <td>1</td>\n",
       "      <td>19.0</td>\n",
       "      <td>BIT</td>\n",
       "      <td>1</td>\n",
       "      <td>3.00 - 3.49</td>\n",
       "      <td>0</td>\n",
       "      <td>1</td>\n",
       "      <td>1</td>\n",
       "      <td>1</td>\n",
       "      <td>0</td>\n",
       "    </tr>\n",
       "    <tr>\n",
       "      <th>3</th>\n",
       "      <td>8/7/2020 12:06</td>\n",
       "      <td>0</td>\n",
       "      <td>22.0</td>\n",
       "      <td>Laws</td>\n",
       "      <td>3</td>\n",
       "      <td>3.00 - 3.49</td>\n",
       "      <td>1</td>\n",
       "      <td>1</td>\n",
       "      <td>0</td>\n",
       "      <td>0</td>\n",
       "      <td>0</td>\n",
       "    </tr>\n",
       "    <tr>\n",
       "      <th>4</th>\n",
       "      <td>8/7/2020 12:13</td>\n",
       "      <td>1</td>\n",
       "      <td>23.0</td>\n",
       "      <td>Mathemathics</td>\n",
       "      <td>4</td>\n",
       "      <td>3.00 - 3.49</td>\n",
       "      <td>0</td>\n",
       "      <td>0</td>\n",
       "      <td>0</td>\n",
       "      <td>0</td>\n",
       "      <td>0</td>\n",
       "    </tr>\n",
       "  </tbody>\n",
       "</table>\n",
       "</div>"
      ],
      "text/plain": [
       "        Timestamp  Choose_your_gender   Age What_is_your_course  \\\n",
       "0  8/7/2020 12:02                   0  18.0         Engineering   \n",
       "1  8/7/2020 12:04                   1  21.0   Islamic Education   \n",
       "2  8/7/2020 12:05                   1  19.0                 BIT   \n",
       "3  8/7/2020 12:06                   0  22.0                Laws   \n",
       "4  8/7/2020 12:13                   1  23.0        Mathemathics   \n",
       "\n",
       "   Your_current_year_of_Study What_is_your_CGPA  Marital_status  Depression  \\\n",
       "0                           1       3.00 - 3.49               0           1   \n",
       "1                           2       3.00 - 3.49               0           0   \n",
       "2                           1       3.00 - 3.49               0           1   \n",
       "3                           3       3.00 - 3.49               1           1   \n",
       "4                           4       3.00 - 3.49               0           0   \n",
       "\n",
       "   Do_you_have_Anxiety  Do_you_have_Panic_attack  \\\n",
       "0                    0                         1   \n",
       "1                    1                         0   \n",
       "2                    1                         1   \n",
       "3                    0                         0   \n",
       "4                    0                         0   \n",
       "\n",
       "   Did_you_seek_any_specialist_for_a_treatment  \n",
       "0                                            0  \n",
       "1                                            0  \n",
       "2                                            0  \n",
       "3                                            0  \n",
       "4                                            0  "
      ]
     },
     "execution_count": 61,
     "metadata": {},
     "output_type": "execute_result"
    }
   ],
   "source": [
    "data.head()"
   ]
  },
  {
   "cell_type": "code",
   "execution_count": 62,
   "id": "ac5bd85b",
   "metadata": {},
   "outputs": [],
   "source": [
    "le = LabelEncoder()\n",
    "data['course_encoded'] = le.fit_transform(data['What_is_your_course'])"
   ]
  },
  {
   "cell_type": "code",
   "execution_count": 63,
   "id": "3f348a23",
   "metadata": {},
   "outputs": [
    {
     "name": "stdout",
     "output_type": "stream",
     "text": [
      "Label: ALA, Encodage: 0\n",
      "Label: Accounting , Encodage: 1\n",
      "Label: BCS, Encodage: 2\n",
      "Label: BENL, Encodage: 3\n",
      "Label: BIT, Encodage: 4\n",
      "Label: Banking Studies, Encodage: 5\n",
      "Label: Biomedical science, Encodage: 6\n",
      "Label: Biotechnology, Encodage: 7\n",
      "Label: Business Administration, Encodage: 8\n",
      "Label: CTS, Encodage: 9\n",
      "Label: Communication , Encodage: 10\n",
      "Label: DIPLOMA TESL, Encodage: 11\n",
      "Label: Diploma Nursing, Encodage: 12\n",
      "Label: ENM, Encodage: 13\n",
      "Label: Econs, Encodage: 14\n",
      "Label: Engineering, Encodage: 15\n",
      "Label: Fiqh, Encodage: 16\n",
      "Label: Fiqh fatwa , Encodage: 17\n",
      "Label: Human Resources, Encodage: 18\n",
      "Label: Human Sciences , Encodage: 19\n",
      "Label: IT, Encodage: 20\n",
      "Label: Irkhs, Encodage: 21\n",
      "Label: Islamic Education, Encodage: 22\n",
      "Label: KENMS, Encodage: 23\n",
      "Label: KIRKHS, Encodage: 24\n",
      "Label: KOE, Encodage: 25\n",
      "Label: Kop, Encodage: 26\n",
      "Label: Laws, Encodage: 27\n",
      "Label: MHSC, Encodage: 28\n",
      "Label: Malcom, Encodage: 29\n",
      "Label: Marine science, Encodage: 30\n",
      "Label: Mathemathics, Encodage: 31\n",
      "Label: Pendidikan Islam, Encodage: 32\n",
      "Label: Psychology, Encodage: 33\n",
      "Label: Radiography, Encodage: 34\n",
      "Label: TAASL, Encodage: 35\n",
      "Label: Usuluddin , Encodage: 36\n"
     ]
    }
   ],
   "source": [
    "for label, encoding in zip(le.classes_, le.transform(le.classes_)):\n",
    "    print(f\"Label: {label}, Encodage: {encoding}\")"
   ]
  },
  {
   "cell_type": "code",
   "execution_count": 64,
   "id": "c4718e23",
   "metadata": {},
   "outputs": [],
   "source": [
    "le2 = LabelEncoder()\n",
    "data['CGPA_encoded'] = le2.fit_transform(data['What_is_your_CGPA'])"
   ]
  },
  {
   "cell_type": "code",
   "execution_count": 65,
   "id": "1f2170b0",
   "metadata": {},
   "outputs": [
    {
     "name": "stdout",
     "output_type": "stream",
     "text": [
      "Label: 0 - 1.99, Encodage: 0\n",
      "Label: 2.00 - 2.49, Encodage: 1\n",
      "Label: 2.50 - 2.99, Encodage: 2\n",
      "Label: 3.00 - 3.49, Encodage: 3\n",
      "Label: 3.50 - 4.00, Encodage: 4\n"
     ]
    }
   ],
   "source": [
    "for label, encoding in zip(le2.classes_, le2.transform(le2.classes_)):\n",
    "    print(f\"Label: {label}, Encodage: {encoding}\")"
   ]
  },
  {
   "cell_type": "code",
   "execution_count": 66,
   "id": "3be91c56",
   "metadata": {},
   "outputs": [
    {
     "data": {
      "text/plain": [
       "0    65\n",
       "1    35\n",
       "Name: Depression, dtype: int64"
      ]
     },
     "execution_count": 66,
     "metadata": {},
     "output_type": "execute_result"
    }
   ],
   "source": [
    "data[\"Depression\"].value_counts()"
   ]
  },
  {
   "cell_type": "code",
   "execution_count": 67,
   "id": "2d8981a0",
   "metadata": {},
   "outputs": [],
   "source": [
    "data.drop(columns=[\"Timestamp\",\"What_is_your_course\",\"What_is_your_CGPA\"],inplace=True)"
   ]
  },
  {
   "cell_type": "code",
   "execution_count": 68,
   "id": "bd5f26c8",
   "metadata": {},
   "outputs": [
    {
     "data": {
      "text/html": [
       "<div>\n",
       "<style scoped>\n",
       "    .dataframe tbody tr th:only-of-type {\n",
       "        vertical-align: middle;\n",
       "    }\n",
       "\n",
       "    .dataframe tbody tr th {\n",
       "        vertical-align: top;\n",
       "    }\n",
       "\n",
       "    .dataframe thead th {\n",
       "        text-align: right;\n",
       "    }\n",
       "</style>\n",
       "<table border=\"1\" class=\"dataframe\">\n",
       "  <thead>\n",
       "    <tr style=\"text-align: right;\">\n",
       "      <th></th>\n",
       "      <th>Choose_your_gender</th>\n",
       "      <th>Age</th>\n",
       "      <th>Your_current_year_of_Study</th>\n",
       "      <th>Marital_status</th>\n",
       "      <th>Depression</th>\n",
       "      <th>Do_you_have_Anxiety</th>\n",
       "      <th>Do_you_have_Panic_attack</th>\n",
       "      <th>Did_you_seek_any_specialist_for_a_treatment</th>\n",
       "      <th>course_encoded</th>\n",
       "      <th>CGPA_encoded</th>\n",
       "    </tr>\n",
       "  </thead>\n",
       "  <tbody>\n",
       "    <tr>\n",
       "      <th>0</th>\n",
       "      <td>0</td>\n",
       "      <td>18.0</td>\n",
       "      <td>1</td>\n",
       "      <td>0</td>\n",
       "      <td>1</td>\n",
       "      <td>0</td>\n",
       "      <td>1</td>\n",
       "      <td>0</td>\n",
       "      <td>15</td>\n",
       "      <td>3</td>\n",
       "    </tr>\n",
       "    <tr>\n",
       "      <th>1</th>\n",
       "      <td>1</td>\n",
       "      <td>21.0</td>\n",
       "      <td>2</td>\n",
       "      <td>0</td>\n",
       "      <td>0</td>\n",
       "      <td>1</td>\n",
       "      <td>0</td>\n",
       "      <td>0</td>\n",
       "      <td>22</td>\n",
       "      <td>3</td>\n",
       "    </tr>\n",
       "    <tr>\n",
       "      <th>2</th>\n",
       "      <td>1</td>\n",
       "      <td>19.0</td>\n",
       "      <td>1</td>\n",
       "      <td>0</td>\n",
       "      <td>1</td>\n",
       "      <td>1</td>\n",
       "      <td>1</td>\n",
       "      <td>0</td>\n",
       "      <td>4</td>\n",
       "      <td>3</td>\n",
       "    </tr>\n",
       "    <tr>\n",
       "      <th>3</th>\n",
       "      <td>0</td>\n",
       "      <td>22.0</td>\n",
       "      <td>3</td>\n",
       "      <td>1</td>\n",
       "      <td>1</td>\n",
       "      <td>0</td>\n",
       "      <td>0</td>\n",
       "      <td>0</td>\n",
       "      <td>27</td>\n",
       "      <td>3</td>\n",
       "    </tr>\n",
       "    <tr>\n",
       "      <th>4</th>\n",
       "      <td>1</td>\n",
       "      <td>23.0</td>\n",
       "      <td>4</td>\n",
       "      <td>0</td>\n",
       "      <td>0</td>\n",
       "      <td>0</td>\n",
       "      <td>0</td>\n",
       "      <td>0</td>\n",
       "      <td>31</td>\n",
       "      <td>3</td>\n",
       "    </tr>\n",
       "  </tbody>\n",
       "</table>\n",
       "</div>"
      ],
      "text/plain": [
       "   Choose_your_gender   Age  Your_current_year_of_Study  Marital_status  \\\n",
       "0                   0  18.0                           1               0   \n",
       "1                   1  21.0                           2               0   \n",
       "2                   1  19.0                           1               0   \n",
       "3                   0  22.0                           3               1   \n",
       "4                   1  23.0                           4               0   \n",
       "\n",
       "   Depression  Do_you_have_Anxiety  Do_you_have_Panic_attack  \\\n",
       "0           1                    0                         1   \n",
       "1           0                    1                         0   \n",
       "2           1                    1                         1   \n",
       "3           1                    0                         0   \n",
       "4           0                    0                         0   \n",
       "\n",
       "   Did_you_seek_any_specialist_for_a_treatment  course_encoded  CGPA_encoded  \n",
       "0                                            0              15             3  \n",
       "1                                            0              22             3  \n",
       "2                                            0               4             3  \n",
       "3                                            0              27             3  \n",
       "4                                            0              31             3  "
      ]
     },
     "execution_count": 68,
     "metadata": {},
     "output_type": "execute_result"
    }
   ],
   "source": [
    "data.head()"
   ]
  },
  {
   "cell_type": "code",
   "execution_count": 69,
   "id": "525806c1",
   "metadata": {},
   "outputs": [
    {
     "data": {
      "text/plain": [
       "(100, 10)"
      ]
     },
     "execution_count": 69,
     "metadata": {},
     "output_type": "execute_result"
    }
   ],
   "source": [
    "data.shape"
   ]
  },
  {
   "cell_type": "code",
   "execution_count": 120,
   "id": "afdc44ac",
   "metadata": {},
   "outputs": [],
   "source": [
    "X = data.drop(columns=[\"Depression\"])\n",
    "y = data.Depression"
   ]
  },
  {
   "cell_type": "code",
   "execution_count": 121,
   "id": "a6ffabce",
   "metadata": {},
   "outputs": [],
   "source": [
    "X_train, X_test, y_train, y_test = train_test_split(X, y, test_size=0.2, random_state=1)"
   ]
  },
  {
   "cell_type": "code",
   "execution_count": 72,
   "id": "d8587d38",
   "metadata": {},
   "outputs": [],
   "source": [
    "sc = StandardScaler()\n",
    "X_train = sc.fit_transform(X_train)\n",
    "X_test = sc.transform(X_test)"
   ]
  },
  {
   "cell_type": "markdown",
   "id": "c4524fe5",
   "metadata": {},
   "source": [
    "# # Model training "
   ]
  },
  {
   "cell_type": "code",
   "execution_count": 73,
   "id": "3a26387c",
   "metadata": {},
   "outputs": [],
   "source": [
    "def evaluate(sk_model, x_test, y_test):\n",
    "    eval_acc = sk_model.score(x_test, y_test)\n",
    "    preds = sk_model.predict(x_test)\n",
    "    auc_score = roc_auc_score(y_test, preds)\n",
    "    mlflow.log_metric(\"eval_acc\", eval_acc) \n",
    "    mlflow.log_metric(\"auc_score\", auc_score)\n",
    "    print(f\"Auc Score: {auc_score:.3%}\")\n",
    "    print(f\"Eval Accuracy: {eval_acc:.3%}\")\n",
    "    plt.clf()\n",
    "    conf_matrix = confusion_matrix(y_test, preds)\n",
    "    ax = sns.heatmap(conf_matrix, annot=True,fmt='g')\n",
    "    ax.invert_xaxis()\n",
    "    ax.invert_yaxis()\n",
    "    plt.ylabel('Actual')\n",
    "    plt.xlabel('Predicted')\n",
    "    plt.title(\"Confusion Matrix\")\n",
    "    plt.savefig(\"sklearn_conf_matrix.png\")\n",
    "    mlflow.log_artifact(\"sklearn_conf_matrix.png\")"
   ]
  },
  {
   "cell_type": "markdown",
   "id": "a85eb968",
   "metadata": {},
   "source": [
    "## LogisticRegression"
   ]
  },
  {
   "cell_type": "code",
   "execution_count": 74,
   "id": "e172e81d",
   "metadata": {},
   "outputs": [
    {
     "name": "stdout",
     "output_type": "stream",
     "text": [
      "Train Accuracy: 86.250%\n",
      "Auc Score: 77.778%\n",
      "Eval Accuracy: 80.000%\n",
      "Model run:  d4fc196400544e1f897c3bbdc9c3aee7\n"
     ]
    },
    {
     "name": "stderr",
     "output_type": "stream",
     "text": [
      "/home/ewins/anaconda3/lib/python3.9/site-packages/_distutils_hack/__init__.py:33: UserWarning: Setuptools is replacing distutils.\n",
      "  warnings.warn(\"Setuptools is replacing distutils.\")\n"
     ]
    },
    {
     "data": {
      "image/png": "[encoded data removed]",
      "text/plain": [
       "<Figure size 640x480 with 2 Axes>"
      ]
     },
     "metadata": {},
     "output_type": "display_data"
    }
   ],
   "source": [
    "sk_model = LogisticRegression(random_state=None)\n",
    "mlflow.set_experiment(\"assignement_exp\")\n",
    "with mlflow.start_run():\n",
    "    params = {\n",
    "    \"max_iter\": 1,\n",
    "    \"penalty\" : 'L1',\n",
    "    \"solver\": 'liblinear',\n",
    "    }\n",
    "    mlflow.log_params(params)\n",
    "    sk_model = sk_model.fit(X_train, y_train)\n",
    "    train_acc = sk_model.score(X_train, y_train)\n",
    "    mlflow.log_metric(\"train_acc\", train_acc)  \n",
    "    print(f\"Train Accuracy: {train_acc:.3%}\")\n",
    "    evaluate(sk_model, X_test, y_test)\n",
    "    mlflow.sklearn.log_model(sk_model, \"log_reg_model\")\n",
    "    print(\"Model run: \", mlflow.active_run().info.run_uuid)\n",
    "mlflow.end_run()"
   ]
  },
  {
   "cell_type": "markdown",
   "id": "6f9cdea6",
   "metadata": {},
   "source": [
    "## SVC"
   ]
  },
  {
   "cell_type": "code",
   "execution_count": 75,
   "id": "52e98fc0",
   "metadata": {},
   "outputs": [
    {
     "name": "stdout",
     "output_type": "stream",
     "text": [
      "Train Accuracy: 87.500%\n",
      "Auc Score: 73.232%\n",
      "Eval Accuracy: 75.000%\n",
      "Model run:  315c28fd4b2f49459f43d1a7934c46f0\n"
     ]
    },
    {
     "data": {
      "image/png": "[encoded data removed]",
      "text/plain": [
       "<Figure size 640x480 with 2 Axes>"
      ]
     },
     "metadata": {},
     "output_type": "display_data"
    }
   ],
   "source": [
    "sk_model = SVC(random_state=None)\n",
    "mlflow.set_experiment(\"assignement_exp\")\n",
    "with mlflow.start_run():\n",
    "    params = {\n",
    "    \"max_iter\": 600,\n",
    "    \"C\": 1,\n",
    "    \"kernel\" : 'poly', \n",
    "    }\n",
    "    mlflow.log_params(params)\n",
    "    sk_model = sk_model.fit(X_train, y_train)\n",
    "    train_acc = sk_model.score(X_train, y_train)\n",
    "    mlflow.log_metric(\"train_acc\", train_acc)\n",
    "    print(f\"Train Accuracy: {train_acc:.3%}\")\n",
    "    evaluate(sk_model, X_test, y_test)\n",
    "    mlflow.sklearn.log_model(sk_model, \"log_reg_model\")\n",
    "    print(\"Model run: \", mlflow.active_run().info.run_uuid)\n",
    "mlflow.end_run()"
   ]
  },
  {
   "cell_type": "markdown",
   "id": "186a0142",
   "metadata": {},
   "source": [
    "## RandomForest"
   ]
  },
  {
   "cell_type": "code",
   "execution_count": 76,
   "id": "f04c855c",
   "metadata": {},
   "outputs": [
    {
     "name": "stdout",
     "output_type": "stream",
     "text": [
      "Train Accuracy: 100.000%\n",
      "Auc Score: 73.232%\n",
      "Eval Accuracy: 75.000%\n",
      "Model run:  334e46c83c7a45c98b5b5ed8f9092d7d\n"
     ]
    },
    {
     "data": {
      "image/png": "[encoded data removed]",
      "text/plain": [
       "<Figure size 640x480 with 2 Axes>"
      ]
     },
     "metadata": {},
     "output_type": "display_data"
    }
   ],
   "source": [
    "sk_model = RandomForestClassifier(random_state=None)\n",
    "mlflow.set_experiment(\"assignement_exp\")\n",
    "with mlflow.start_run():\n",
    "    sk_model = sk_model.fit(X_train, y_train)\n",
    "    train_acc = sk_model.score(X_train, y_train)\n",
    "    mlflow.log_metric(\"train_acc\", train_acc)\n",
    "    print(f\"Train Accuracy: {train_acc:.3%}\")\n",
    "    evaluate(sk_model, X_test, y_test)\n",
    "    mlflow.sklearn.log_model(sk_model, \"log_reg_model\")\n",
    "    print(\"Model run: \", mlflow.active_run().info.run_uuid)\n",
    "mlflow.end_run()"
   ]
  },
  {
   "cell_type": "code",
   "execution_count": 77,
   "id": "70ee6871",
   "metadata": {},
   "outputs": [],
   "source": [
    "lr = mlflow.sklearn.load_model(\"runs:/d4fc196400544e1f897c3bbdc9c3aee7/log_reg_model\")"
   ]
  },
  {
   "cell_type": "code",
   "execution_count": 78,
   "id": "258bceab",
   "metadata": {},
   "outputs": [],
   "source": [
    "initial_type = [('float_input', FloatTensorType([None, 9]))]\n",
    "onx = convert_sklearn(lr, initial_types=initial_type)\n",
    "with open(\"artifacts/lr.onnx\", \"wb\") as f:\n",
    "    f.write(onx.SerializeToString())"
   ]
  },
  {
   "cell_type": "code",
   "execution_count": 79,
   "id": "fb42a61a",
   "metadata": {},
   "outputs": [],
   "source": [
    "import pickle\n",
    "with open('artifacts/scaler.pkl', 'wb') as scaler_pkl:\n",
    "    pickle.dump(sc, scaler_pkl)"
   ]
  },
  {
   "cell_type": "markdown",
   "id": "cf29b17f",
   "metadata": {},
   "source": [
    "## Load files"
   ]
  },
  {
   "cell_type": "code",
   "execution_count": 80,
   "id": "d488655d",
   "metadata": {},
   "outputs": [],
   "source": [
    "with open('artifacts/scaler.pkl', 'rb') as file:\n",
    "    scaler = pickle.load(file)"
   ]
  },
  {
   "cell_type": "code",
   "execution_count": 81,
   "id": "7b9c760c",
   "metadata": {},
   "outputs": [],
   "source": [
    "import onnxruntime as rt\n",
    "import numpy\n",
    "sess = rt.InferenceSession(\"artifacts/lr.onnx\")"
   ]
  },
  {
   "cell_type": "code",
   "execution_count": 82,
   "id": "403ae767",
   "metadata": {},
   "outputs": [],
   "source": [
    "input_name = sess.get_inputs()[0].name\n",
    "label_name = sess.get_outputs()[0].name"
   ]
  },
  {
   "cell_type": "code",
   "execution_count": 83,
   "id": "d10acb98",
   "metadata": {},
   "outputs": [
    {
     "data": {
      "text/html": [
       "<div>\n",
       "<style scoped>\n",
       "    .dataframe tbody tr th:only-of-type {\n",
       "        vertical-align: middle;\n",
       "    }\n",
       "\n",
       "    .dataframe tbody tr th {\n",
       "        vertical-align: top;\n",
       "    }\n",
       "\n",
       "    .dataframe thead th {\n",
       "        text-align: right;\n",
       "    }\n",
       "</style>\n",
       "<table border=\"1\" class=\"dataframe\">\n",
       "  <thead>\n",
       "    <tr style=\"text-align: right;\">\n",
       "      <th></th>\n",
       "      <th>Choose_your_gender</th>\n",
       "      <th>Age</th>\n",
       "      <th>Your_current_year_of_Study</th>\n",
       "      <th>Marital_status</th>\n",
       "      <th>Depression</th>\n",
       "      <th>Do_you_have_Anxiety</th>\n",
       "      <th>Do_you_have_Panic_attack</th>\n",
       "      <th>Did_you_seek_any_specialist_for_a_treatment</th>\n",
       "      <th>course_encoded</th>\n",
       "      <th>CGPA_encoded</th>\n",
       "    </tr>\n",
       "  </thead>\n",
       "  <tbody>\n",
       "    <tr>\n",
       "      <th>0</th>\n",
       "      <td>0</td>\n",
       "      <td>18.0</td>\n",
       "      <td>1</td>\n",
       "      <td>0</td>\n",
       "      <td>1</td>\n",
       "      <td>0</td>\n",
       "      <td>1</td>\n",
       "      <td>0</td>\n",
       "      <td>15</td>\n",
       "      <td>3</td>\n",
       "    </tr>\n",
       "    <tr>\n",
       "      <th>1</th>\n",
       "      <td>1</td>\n",
       "      <td>21.0</td>\n",
       "      <td>2</td>\n",
       "      <td>0</td>\n",
       "      <td>0</td>\n",
       "      <td>1</td>\n",
       "      <td>0</td>\n",
       "      <td>0</td>\n",
       "      <td>22</td>\n",
       "      <td>3</td>\n",
       "    </tr>\n",
       "    <tr>\n",
       "      <th>2</th>\n",
       "      <td>1</td>\n",
       "      <td>19.0</td>\n",
       "      <td>1</td>\n",
       "      <td>0</td>\n",
       "      <td>1</td>\n",
       "      <td>1</td>\n",
       "      <td>1</td>\n",
       "      <td>0</td>\n",
       "      <td>4</td>\n",
       "      <td>3</td>\n",
       "    </tr>\n",
       "    <tr>\n",
       "      <th>3</th>\n",
       "      <td>0</td>\n",
       "      <td>22.0</td>\n",
       "      <td>3</td>\n",
       "      <td>1</td>\n",
       "      <td>1</td>\n",
       "      <td>0</td>\n",
       "      <td>0</td>\n",
       "      <td>0</td>\n",
       "      <td>27</td>\n",
       "      <td>3</td>\n",
       "    </tr>\n",
       "    <tr>\n",
       "      <th>4</th>\n",
       "      <td>1</td>\n",
       "      <td>23.0</td>\n",
       "      <td>4</td>\n",
       "      <td>0</td>\n",
       "      <td>0</td>\n",
       "      <td>0</td>\n",
       "      <td>0</td>\n",
       "      <td>0</td>\n",
       "      <td>31</td>\n",
       "      <td>3</td>\n",
       "    </tr>\n",
       "  </tbody>\n",
       "</table>\n",
       "</div>"
      ],
      "text/plain": [
       "   Choose_your_gender   Age  Your_current_year_of_Study  Marital_status  \\\n",
       "0                   0  18.0                           1               0   \n",
       "1                   1  21.0                           2               0   \n",
       "2                   1  19.0                           1               0   \n",
       "3                   0  22.0                           3               1   \n",
       "4                   1  23.0                           4               0   \n",
       "\n",
       "   Depression  Do_you_have_Anxiety  Do_you_have_Panic_attack  \\\n",
       "0           1                    0                         1   \n",
       "1           0                    1                         0   \n",
       "2           1                    1                         1   \n",
       "3           1                    0                         0   \n",
       "4           0                    0                         0   \n",
       "\n",
       "   Did_you_seek_any_specialist_for_a_treatment  course_encoded  CGPA_encoded  \n",
       "0                                            0              15             3  \n",
       "1                                            0              22             3  \n",
       "2                                            0               4             3  \n",
       "3                                            0              27             3  \n",
       "4                                            0              31             3  "
      ]
     },
     "execution_count": 83,
     "metadata": {},
     "output_type": "execute_result"
    }
   ],
   "source": [
    "data.head()"
   ]
  },
  {
   "cell_type": "code",
   "execution_count": 133,
   "id": "8d42d7aa",
   "metadata": {},
   "outputs": [],
   "source": [
    "test_data = np.array([1,22,3,1,1,1,1,15,0])"
   ]
  },
  {
   "cell_type": "code",
   "execution_count": 134,
   "id": "71f0e7be",
   "metadata": {},
   "outputs": [],
   "source": [
    "test_data = scaler.fit_transform(test_data.reshape(1, 9))"
   ]
  },
  {
   "cell_type": "code",
   "execution_count": 135,
   "id": "beff7b97",
   "metadata": {},
   "outputs": [],
   "source": [
    "pred_onx = sess.run([label_name], {input_name: test_data.astype(numpy.float32)})[0]"
   ]
  },
  {
   "cell_type": "code",
   "execution_count": 136,
   "id": "337c5e28",
   "metadata": {},
   "outputs": [
    {
     "data": {
      "text/plain": [
       "0"
      ]
     },
     "execution_count": 136,
     "metadata": {},
     "output_type": "execute_result"
    }
   ],
   "source": [
    "pred_onx[0]"
   ]
  }
 ],
 "metadata": {
  "kernelspec": {
   "display_name": "Python 3 (ipykernel)",
   "language": "python",
   "name": "python3"
  },
  "language_info": {
   "codemirror_mode": {
    "name": "ipython",
    "version": 3
   },
   "file_extension": ".py",
   "mimetype": "text/x-python",
   "name": "python",
   "nbconvert_exporter": "python",
   "pygments_lexer": "ipython3",
   "version": "3.9.13"
  }
 },
 "nbformat": 4,
 "nbformat_minor": 5
}
